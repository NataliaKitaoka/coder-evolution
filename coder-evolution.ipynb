{
 "cells": [
  {
   "cell_type": "markdown",
   "metadata": {},
   "source": [
    "**Project 1 from Data Science Nanodegree at Udacity**\n",
    "\n",
    "This project aims to observe the coder (someone who codes) evolution profile through the years considering their formal degree. \n"
   ]
  },
  {
   "cell_type": "markdown",
   "metadata": {},
   "source": [
    "**1. Business Understanding:**\n",
    "It was used the [Stack Overflow Surveys datasets from 2017 to 2020](https://insights.stackoverflow.com/survey) to obtain the answer to the following questions:\n",
    "\n",
    "    1. How important is a formal education, such as a university degree in computer science, to your career?\n",
    "\t2. Is there any bias in the above opinion depending on their major undergrad?]\n",
    "    3. Evaluating the people who had not a formal degree in some course related to Comp. Sci, Web Development or Information Sytem (a lot programming at Undergrad). How they are getting into the field proportionally along the time (number of non-formal degrees in computation employees/time)?\n",
    "\t4. Depending on your degree, there is difference in salary or compensation if you work coding? How does it is indicated along the time?\n"
   ]
  },
  {
   "cell_type": "code",
   "execution_count": 76,
   "metadata": {},
   "outputs": [],
   "source": [
    "#importing libraries\n",
    "import numpy as np\n",
    "import pandas as pd\n",
    "import matplotlib.pyplot as plt\n",
    "import matplotlib as mpl\n",
    "from matplotlib.patches import Patch\n",
    "from matplotlib.lines import Line2D"
   ]
  },
  {
   "cell_type": "markdown",
   "metadata": {},
   "source": [
    "**2. Data Understanding**"
   ]
  },
  {
   "cell_type": "markdown",
   "metadata": {},
   "source": [
    "*Gathering the necessary data to answer my questions:*\n"
   ]
  },
  {
   "cell_type": "code",
   "execution_count": 77,
   "metadata": {},
   "outputs": [],
   "source": [
    "data20 = pd.read_csv('/home/natalia/Documents/coder-evolution/data/data/csv/2020 survey_results_public.csv')\n",
    "schema20 = pd.read_csv('/home/natalia/Documents/coder-evolution/data/data/csv/2020 survey_results_schema.csv')\n",
    "data19 = pd.read_csv('/home/natalia/Documents/coder-evolution/data/data/csv/2019 survey_results_public.csv')\n",
    "schema19 = pd.read_csv('/home/natalia/Documents/coder-evolution/data/data/csv/2019 survey_results_schema.csv')\n",
    "data18 = pd.read_csv('/home/natalia/Documents/coder-evolution/data/data/csv/2018 survey_results_public.csv', low_memory = False)\n",
    "schema18 =pd.read_csv('/home/natalia/Documents/coder-evolution/data/data/csv/2018 survey_results_schema.csv')\n",
    "data17 = pd.read_csv('/home/natalia/Documents/coder-evolution/data/data/csv/2017 survey_results_public.csv')\n",
    "schema17 = pd.read_csv('/home/natalia/Documents/coder-evolution/data/data/csv/2017 survey_results_schema.csv')\n"
   ]
  },
  {
   "cell_type": "markdown",
   "metadata": {},
   "source": [
    "**Survey 2020 Data - Data Understanding for questions 1 and 2**\n"
   ]
  },
  {
   "cell_type": "markdown",
   "metadata": {},
   "source": [
    "*Assessing which colums have the most suitable questions to anwer my questions*"
   ]
  },
  {
   "cell_type": "code",
   "execution_count": 78,
   "metadata": {},
   "outputs": [
    {
     "data": {
      "text/html": [
       "<div>\n",
       "<style scoped>\n",
       "    .dataframe tbody tr th:only-of-type {\n",
       "        vertical-align: middle;\n",
       "    }\n",
       "\n",
       "    .dataframe tbody tr th {\n",
       "        vertical-align: top;\n",
       "    }\n",
       "\n",
       "    .dataframe thead th {\n",
       "        text-align: right;\n",
       "    }\n",
       "</style>\n",
       "<table border=\"1\" class=\"dataframe\">\n",
       "  <thead>\n",
       "    <tr style=\"text-align: right;\">\n",
       "      <th></th>\n",
       "      <th>Column</th>\n",
       "      <th>QuestionText</th>\n",
       "    </tr>\n",
       "  </thead>\n",
       "  <tbody>\n",
       "    <tr>\n",
       "      <th>0</th>\n",
       "      <td>Respondent</td>\n",
       "      <td>Randomized respondent ID number (not in order of survey response time)</td>\n",
       "    </tr>\n",
       "    <tr>\n",
       "      <th>1</th>\n",
       "      <td>MainBranch</td>\n",
       "      <td>Which of the following options best describes you today? Here, by \"developer\" we mean \"someone who writes code.\"</td>\n",
       "    </tr>\n",
       "    <tr>\n",
       "      <th>2</th>\n",
       "      <td>Hobbyist</td>\n",
       "      <td>Do you code as a hobby?</td>\n",
       "    </tr>\n",
       "    <tr>\n",
       "      <th>3</th>\n",
       "      <td>Age</td>\n",
       "      <td>What is your age (in years)? If you prefer not to answer, you may leave this question blank.</td>\n",
       "    </tr>\n",
       "    <tr>\n",
       "      <th>4</th>\n",
       "      <td>Age1stCode</td>\n",
       "      <td>At what age did you write your first line of code or program? (e.g., webpage, Hello World, Scratch project)</td>\n",
       "    </tr>\n",
       "    <tr>\n",
       "      <th>5</th>\n",
       "      <td>CompFreq</td>\n",
       "      <td>Is that compensation weekly, monthly, or yearly?</td>\n",
       "    </tr>\n",
       "    <tr>\n",
       "      <th>6</th>\n",
       "      <td>CompTotal</td>\n",
       "      <td>What is your current total compensation (salary, bonuses, and perks, before taxes and deductions), in `CurrencySymbol`? Please enter a whole number in the box below, without any punctuation. If you are paid hourly, please estimate an equivalent weekly, monthly, or yearly salary. If you prefer not to answer, please leave the box empty.</td>\n",
       "    </tr>\n",
       "    <tr>\n",
       "      <th>7</th>\n",
       "      <td>ConvertedComp</td>\n",
       "      <td>Salary converted to annual USD salaries using the exchange rate on 2020-02-19, assuming 12 working months and 50 working weeks.</td>\n",
       "    </tr>\n",
       "    <tr>\n",
       "      <th>8</th>\n",
       "      <td>Country</td>\n",
       "      <td>Where do you live?</td>\n",
       "    </tr>\n",
       "    <tr>\n",
       "      <th>9</th>\n",
       "      <td>CurrencyDesc</td>\n",
       "      <td>Which currency do you use day-to-day? If your answer is complicated, please pick the one you're most comfortable estimating in.</td>\n",
       "    </tr>\n",
       "    <tr>\n",
       "      <th>10</th>\n",
       "      <td>CurrencySymbol</td>\n",
       "      <td>Which currency do you use day-to-day? If your answer is complicated, please pick the one you're most comfortable estimating in.</td>\n",
       "    </tr>\n",
       "    <tr>\n",
       "      <th>11</th>\n",
       "      <td>DatabaseDesireNextYear</td>\n",
       "      <td>Which database environments have you done extensive development work in over the past year, and which do you want to work in over the next year? (If you both worked with the database and want to continue to do so, please check both boxes in that row.)</td>\n",
       "    </tr>\n",
       "    <tr>\n",
       "      <th>12</th>\n",
       "      <td>DatabaseWorkedWith</td>\n",
       "      <td>Which database environments have you done extensive development work in over the past year, and which do you want to work in over the next year? (If you both worked with the database and want to continue to do so, please check both boxes in that row.)</td>\n",
       "    </tr>\n",
       "    <tr>\n",
       "      <th>13</th>\n",
       "      <td>DevType</td>\n",
       "      <td>Which of the following describe you? Please select all that apply.</td>\n",
       "    </tr>\n",
       "    <tr>\n",
       "      <th>14</th>\n",
       "      <td>EdLevel</td>\n",
       "      <td>Which of the following best describes the highest level of formal education that you’ve completed?</td>\n",
       "    </tr>\n",
       "    <tr>\n",
       "      <th>15</th>\n",
       "      <td>Employment</td>\n",
       "      <td>Which of the following best describes your current employment status?</td>\n",
       "    </tr>\n",
       "    <tr>\n",
       "      <th>16</th>\n",
       "      <td>Ethnicity</td>\n",
       "      <td>Which of the following describe you, if any? Please check all that apply. If you prefer not to answer, you may leave this question blank.</td>\n",
       "    </tr>\n",
       "    <tr>\n",
       "      <th>17</th>\n",
       "      <td>Gender</td>\n",
       "      <td>Which of the following describe you, if any? Please check all that apply. If you prefer not to answer, you may leave this question blank.</td>\n",
       "    </tr>\n",
       "    <tr>\n",
       "      <th>18</th>\n",
       "      <td>JobFactors</td>\n",
       "      <td>Imagine that you are deciding between two job offers with the same compensation, benefits, and location. Of the following factors, which 3 are MOST important to you?</td>\n",
       "    </tr>\n",
       "    <tr>\n",
       "      <th>19</th>\n",
       "      <td>JobSat</td>\n",
       "      <td>How satisfied are you with your current job? (If you work multiple jobs, answer for the one you spend the most hours on.)</td>\n",
       "    </tr>\n",
       "    <tr>\n",
       "      <th>20</th>\n",
       "      <td>JobSeek</td>\n",
       "      <td>Which of the following best describes your current job-seeking status?</td>\n",
       "    </tr>\n",
       "    <tr>\n",
       "      <th>21</th>\n",
       "      <td>LanguageDesireNextYear</td>\n",
       "      <td>Which programming, scripting, and markup languages have you done extensive development work in over the past year, and which do you want to work in over the next year? (If you both worked with the language and want to continue to do so, please check both boxes in that row.)</td>\n",
       "    </tr>\n",
       "    <tr>\n",
       "      <th>22</th>\n",
       "      <td>LanguageWorkedWith</td>\n",
       "      <td>Which programming, scripting, and markup languages have you done extensive development work in over the past year, and which do you want to work in over the next year? (If you both worked with the language and want to continue to do so, please check both boxes in that row.)</td>\n",
       "    </tr>\n",
       "    <tr>\n",
       "      <th>23</th>\n",
       "      <td>MiscTechDesireNextYear</td>\n",
       "      <td>Which other frameworks, libraries, and tools have you done extensive development work in over the past year, and which do you want to work in over the next year? (If you both worked with the framework and want to continue to do so, please check both boxes in that row.)</td>\n",
       "    </tr>\n",
       "    <tr>\n",
       "      <th>24</th>\n",
       "      <td>MiscTechWorkedWith</td>\n",
       "      <td>Which other frameworks, libraries, and tools have you done extensive development work in over the past year, and which do you want to work in over the next year? (If you both worked with the framework and want to continue to do so, please check both boxes in that row.)</td>\n",
       "    </tr>\n",
       "    <tr>\n",
       "      <th>25</th>\n",
       "      <td>NEWCollabToolsDesireNextYear</td>\n",
       "      <td>Which collaboration tools have you done extensive development work in over the past year, and which do you want to work in over the next year? (If you worked with the tool and want to continue to do so, please check both boxes in that row.)</td>\n",
       "    </tr>\n",
       "    <tr>\n",
       "      <th>26</th>\n",
       "      <td>NEWCollabToolsWorkedWith</td>\n",
       "      <td>Which collaboration tools have you done extensive development work in over the past year, and which do you want to work in over the next year? (If you worked with the tool and want to continue to do so, please check both boxes in that row.)</td>\n",
       "    </tr>\n",
       "    <tr>\n",
       "      <th>27</th>\n",
       "      <td>NEWDevOps</td>\n",
       "      <td>Does your company have a dedicated DevOps person?</td>\n",
       "    </tr>\n",
       "    <tr>\n",
       "      <th>28</th>\n",
       "      <td>NEWDevOpsImpt</td>\n",
       "      <td>How important is the practice of DevOps to scaling software development?</td>\n",
       "    </tr>\n",
       "    <tr>\n",
       "      <th>29</th>\n",
       "      <td>NEWEdImpt</td>\n",
       "      <td>How important is a formal education, such as a university degree in computer science, to your career?</td>\n",
       "    </tr>\n",
       "    <tr>\n",
       "      <th>30</th>\n",
       "      <td>NEWJobHunt</td>\n",
       "      <td>In general, what drives you to look for a new job? Select all that apply.</td>\n",
       "    </tr>\n",
       "    <tr>\n",
       "      <th>31</th>\n",
       "      <td>NEWJobHuntResearch</td>\n",
       "      <td>When job searching, how do you learn more about a company? Select all that apply.</td>\n",
       "    </tr>\n",
       "    <tr>\n",
       "      <th>32</th>\n",
       "      <td>NEWLearn</td>\n",
       "      <td>How frequently do you learn a new language or framework?</td>\n",
       "    </tr>\n",
       "    <tr>\n",
       "      <th>33</th>\n",
       "      <td>NEWOffTopic</td>\n",
       "      <td>Do you think Stack Overflow should relax restrictions on what is considered “off-topic”?</td>\n",
       "    </tr>\n",
       "    <tr>\n",
       "      <th>34</th>\n",
       "      <td>NEWOnboardGood</td>\n",
       "      <td>Do you think your company has a good onboarding process? (By onboarding, we mean the structured process of getting you settled in to your new role at a company)</td>\n",
       "    </tr>\n",
       "    <tr>\n",
       "      <th>35</th>\n",
       "      <td>NEWOtherComms</td>\n",
       "      <td>Are you a member of any other online developer communities?</td>\n",
       "    </tr>\n",
       "    <tr>\n",
       "      <th>36</th>\n",
       "      <td>NEWOvertime</td>\n",
       "      <td>How often do you work overtime or beyond the formal time expectation of your job?</td>\n",
       "    </tr>\n",
       "    <tr>\n",
       "      <th>37</th>\n",
       "      <td>NEWPurchaseResearch</td>\n",
       "      <td>When buying a new tool or software, how do you discover and research available solutions? Select all that apply.</td>\n",
       "    </tr>\n",
       "    <tr>\n",
       "      <th>38</th>\n",
       "      <td>NEWPurpleLink</td>\n",
       "      <td>You search for a coding solution online and the first result link is purple because you already visited it. How do you feel?</td>\n",
       "    </tr>\n",
       "    <tr>\n",
       "      <th>39</th>\n",
       "      <td>NEWSOSites</td>\n",
       "      <td>Which of the following Stack Overflow sites have you visited? Select all that apply.</td>\n",
       "    </tr>\n",
       "    <tr>\n",
       "      <th>40</th>\n",
       "      <td>NEWStuck</td>\n",
       "      <td>What do you do when you get stuck on a problem? Select all that apply.</td>\n",
       "    </tr>\n",
       "    <tr>\n",
       "      <th>41</th>\n",
       "      <td>OpSys</td>\n",
       "      <td>What is the primary operating system in which you work?</td>\n",
       "    </tr>\n",
       "    <tr>\n",
       "      <th>42</th>\n",
       "      <td>OrgSize</td>\n",
       "      <td>Approximately how many people are employed by the company or organization you currently work for?</td>\n",
       "    </tr>\n",
       "    <tr>\n",
       "      <th>43</th>\n",
       "      <td>PlatformDesireNextYear</td>\n",
       "      <td>Which platforms have you done extensive development work in over the past year, and which do you want to work in over the next year? (If you both worked with the platform and want to continue to do so, please check both boxes in that row.)</td>\n",
       "    </tr>\n",
       "    <tr>\n",
       "      <th>44</th>\n",
       "      <td>PlatformWorkedWith</td>\n",
       "      <td>Which platforms have you done extensive development work in over the past year, and which do you want to work in over the next year? (If you both worked with the platform and want to continue to do so, please check both boxes in that row.)</td>\n",
       "    </tr>\n",
       "    <tr>\n",
       "      <th>45</th>\n",
       "      <td>PurchaseWhat</td>\n",
       "      <td>What level of influence do you, personally, have over new technology purchases at your organization?</td>\n",
       "    </tr>\n",
       "    <tr>\n",
       "      <th>46</th>\n",
       "      <td>Sexuality</td>\n",
       "      <td>Which of the following describe you, if any? Please check all that apply. If you prefer not to answer, you may leave this question blank.</td>\n",
       "    </tr>\n",
       "    <tr>\n",
       "      <th>47</th>\n",
       "      <td>SOAccount</td>\n",
       "      <td>Do you have a Stack Overflow account?</td>\n",
       "    </tr>\n",
       "    <tr>\n",
       "      <th>48</th>\n",
       "      <td>SOComm</td>\n",
       "      <td>Do you consider yourself a member of the Stack Overflow community?</td>\n",
       "    </tr>\n",
       "    <tr>\n",
       "      <th>49</th>\n",
       "      <td>SOPartFreq</td>\n",
       "      <td>How frequently would you say you participate in Q&amp;A on Stack Overflow? By participate we mean ask, answer, vote for, or comment on questions.</td>\n",
       "    </tr>\n",
       "    <tr>\n",
       "      <th>50</th>\n",
       "      <td>SOVisitFreq</td>\n",
       "      <td>How frequently would you say you visit Stack Overflow?</td>\n",
       "    </tr>\n",
       "    <tr>\n",
       "      <th>51</th>\n",
       "      <td>SurveyEase</td>\n",
       "      <td>How easy or difficult was this survey to complete?</td>\n",
       "    </tr>\n",
       "    <tr>\n",
       "      <th>52</th>\n",
       "      <td>SurveyLength</td>\n",
       "      <td>How do you feel about the length of the survey this year?</td>\n",
       "    </tr>\n",
       "    <tr>\n",
       "      <th>53</th>\n",
       "      <td>Trans</td>\n",
       "      <td>Are you transgender?</td>\n",
       "    </tr>\n",
       "    <tr>\n",
       "      <th>54</th>\n",
       "      <td>UndergradMajor</td>\n",
       "      <td>What was your primary field of study?</td>\n",
       "    </tr>\n",
       "    <tr>\n",
       "      <th>55</th>\n",
       "      <td>WebframeDesireNextYear</td>\n",
       "      <td>Which web frameworks have you done extensive development work in over the past year, and which do you want to work in over the next year? (If you both worked with the framework and want to continue to do so, please check both boxes in that row.)</td>\n",
       "    </tr>\n",
       "    <tr>\n",
       "      <th>56</th>\n",
       "      <td>WebframeWorkedWith</td>\n",
       "      <td>Which web frameworks have you done extensive development work in over the past year, and which do you want to work in over the next year? (If you both worked with the framework and want to continue to do so, please check both boxes in that row.)</td>\n",
       "    </tr>\n",
       "    <tr>\n",
       "      <th>57</th>\n",
       "      <td>WelcomeChange</td>\n",
       "      <td>Compared to last year, how welcome do you feel on Stack Overflow?</td>\n",
       "    </tr>\n",
       "    <tr>\n",
       "      <th>58</th>\n",
       "      <td>WorkWeekHrs</td>\n",
       "      <td>On average, how many hours per week do you work? Please enter a whole number in the box.</td>\n",
       "    </tr>\n",
       "    <tr>\n",
       "      <th>59</th>\n",
       "      <td>YearsCode</td>\n",
       "      <td>Including any education, how many years have you been coding in total?</td>\n",
       "    </tr>\n",
       "    <tr>\n",
       "      <th>60</th>\n",
       "      <td>YearsCodePro</td>\n",
       "      <td>NOT including education, how many years have you coded professionally (as a part of your work)?</td>\n",
       "    </tr>\n",
       "  </tbody>\n",
       "</table>\n",
       "</div>"
      ],
      "text/plain": [
       "                          Column  \\\n",
       "0                     Respondent   \n",
       "1                     MainBranch   \n",
       "2                       Hobbyist   \n",
       "3                            Age   \n",
       "4                     Age1stCode   \n",
       "5                       CompFreq   \n",
       "6                      CompTotal   \n",
       "7                  ConvertedComp   \n",
       "8                        Country   \n",
       "9                   CurrencyDesc   \n",
       "10                CurrencySymbol   \n",
       "11        DatabaseDesireNextYear   \n",
       "12            DatabaseWorkedWith   \n",
       "13                       DevType   \n",
       "14                       EdLevel   \n",
       "15                    Employment   \n",
       "16                     Ethnicity   \n",
       "17                        Gender   \n",
       "18                    JobFactors   \n",
       "19                        JobSat   \n",
       "20                       JobSeek   \n",
       "21        LanguageDesireNextYear   \n",
       "22            LanguageWorkedWith   \n",
       "23        MiscTechDesireNextYear   \n",
       "24            MiscTechWorkedWith   \n",
       "25  NEWCollabToolsDesireNextYear   \n",
       "26      NEWCollabToolsWorkedWith   \n",
       "27                     NEWDevOps   \n",
       "28                 NEWDevOpsImpt   \n",
       "29                     NEWEdImpt   \n",
       "30                    NEWJobHunt   \n",
       "31            NEWJobHuntResearch   \n",
       "32                      NEWLearn   \n",
       "33                   NEWOffTopic   \n",
       "34                NEWOnboardGood   \n",
       "35                 NEWOtherComms   \n",
       "36                   NEWOvertime   \n",
       "37           NEWPurchaseResearch   \n",
       "38                 NEWPurpleLink   \n",
       "39                    NEWSOSites   \n",
       "40                      NEWStuck   \n",
       "41                         OpSys   \n",
       "42                       OrgSize   \n",
       "43        PlatformDesireNextYear   \n",
       "44            PlatformWorkedWith   \n",
       "45                  PurchaseWhat   \n",
       "46                     Sexuality   \n",
       "47                     SOAccount   \n",
       "48                        SOComm   \n",
       "49                    SOPartFreq   \n",
       "50                   SOVisitFreq   \n",
       "51                    SurveyEase   \n",
       "52                  SurveyLength   \n",
       "53                         Trans   \n",
       "54                UndergradMajor   \n",
       "55        WebframeDesireNextYear   \n",
       "56            WebframeWorkedWith   \n",
       "57                 WelcomeChange   \n",
       "58                   WorkWeekHrs   \n",
       "59                     YearsCode   \n",
       "60                  YearsCodePro   \n",
       "\n",
       "                                                                                                                                                                                                                                                                                                                                        QuestionText  \n",
       "0                                                                                                                                                                                                                                                                             Randomized respondent ID number (not in order of survey response time)  \n",
       "1                                                                                                                                                                                                                                   Which of the following options best describes you today? Here, by \"developer\" we mean \"someone who writes code.\"  \n",
       "2                                                                                                                                                                                                                                                                                                                            Do you code as a hobby?  \n",
       "3                                                                                                                                                                                                                                                       What is your age (in years)? If you prefer not to answer, you may leave this question blank.  \n",
       "4                                                                                                                                                                                                                                        At what age did you write your first line of code or program? (e.g., webpage, Hello World, Scratch project)  \n",
       "5                                                                                                                                                                                                                                                                                                   Is that compensation weekly, monthly, or yearly?  \n",
       "6   What is your current total compensation (salary, bonuses, and perks, before taxes and deductions), in `CurrencySymbol`? Please enter a whole number in the box below, without any punctuation. If you are paid hourly, please estimate an equivalent weekly, monthly, or yearly salary. If you prefer not to answer, please leave the box empty.  \n",
       "7                                                                                                                                                                                                                    Salary converted to annual USD salaries using the exchange rate on 2020-02-19, assuming 12 working months and 50 working weeks.  \n",
       "8                                                                                                                                                                                                                                                                                                                                 Where do you live?  \n",
       "9                                                                                                                                                                                                                    Which currency do you use day-to-day? If your answer is complicated, please pick the one you're most comfortable estimating in.  \n",
       "10                                                                                                                                                                                                                   Which currency do you use day-to-day? If your answer is complicated, please pick the one you're most comfortable estimating in.  \n",
       "11                                                                                       Which database environments have you done extensive development work in over the past year, and which do you want to work in over the next year? (If you both worked with the database and want to continue to do so, please check both boxes in that row.)  \n",
       "12                                                                                       Which database environments have you done extensive development work in over the past year, and which do you want to work in over the next year? (If you both worked with the database and want to continue to do so, please check both boxes in that row.)  \n",
       "13                                                                                                                                                                                                                                                                                Which of the following describe you? Please select all that apply.  \n",
       "14                                                                                                                                                                                                                                                Which of the following best describes the highest level of formal education that you’ve completed?  \n",
       "15                                                                                                                                                                                                                                                                             Which of the following best describes your current employment status?  \n",
       "16                                                                                                                                                                                                         Which of the following describe you, if any? Please check all that apply. If you prefer not to answer, you may leave this question blank.  \n",
       "17                                                                                                                                                                                                         Which of the following describe you, if any? Please check all that apply. If you prefer not to answer, you may leave this question blank.  \n",
       "18                                                                                                                                                                             Imagine that you are deciding between two job offers with the same compensation, benefits, and location. Of the following factors, which 3 are MOST important to you?  \n",
       "19                                                                                                                                                                                                                         How satisfied are you with your current job? (If you work multiple jobs, answer for the one you spend the most hours on.)  \n",
       "20                                                                                                                                                                                                                                                                            Which of the following best describes your current job-seeking status?  \n",
       "21                                                                Which programming, scripting, and markup languages have you done extensive development work in over the past year, and which do you want to work in over the next year? (If you both worked with the language and want to continue to do so, please check both boxes in that row.)  \n",
       "22                                                                Which programming, scripting, and markup languages have you done extensive development work in over the past year, and which do you want to work in over the next year? (If you both worked with the language and want to continue to do so, please check both boxes in that row.)  \n",
       "23                                                                     Which other frameworks, libraries, and tools have you done extensive development work in over the past year, and which do you want to work in over the next year? (If you both worked with the framework and want to continue to do so, please check both boxes in that row.)  \n",
       "24                                                                     Which other frameworks, libraries, and tools have you done extensive development work in over the past year, and which do you want to work in over the next year? (If you both worked with the framework and want to continue to do so, please check both boxes in that row.)  \n",
       "25                                                                                                  Which collaboration tools have you done extensive development work in over the past year, and which do you want to work in over the next year? (If you worked with the tool and want to continue to do so, please check both boxes in that row.)  \n",
       "26                                                                                                  Which collaboration tools have you done extensive development work in over the past year, and which do you want to work in over the next year? (If you worked with the tool and want to continue to do so, please check both boxes in that row.)  \n",
       "27                                                                                                                                                                                                                                                                                                 Does your company have a dedicated DevOps person?  \n",
       "28                                                                                                                                                                                                                                                                          How important is the practice of DevOps to scaling software development?  \n",
       "29                                                                                                                                                                                                                                             How important is a formal education, such as a university degree in computer science, to your career?  \n",
       "30                                                                                                                                                                                                                                                                         In general, what drives you to look for a new job? Select all that apply.  \n",
       "31                                                                                                                                                                                                                                                                 When job searching, how do you learn more about a company? Select all that apply.  \n",
       "32                                                                                                                                                                                                                                                                                          How frequently do you learn a new language or framework?  \n",
       "33                                                                                                                                                                                                                                                          Do you think Stack Overflow should relax restrictions on what is considered “off-topic”?  \n",
       "34                                                                                                                                                                                  Do you think your company has a good onboarding process? (By onboarding, we mean the structured process of getting you settled in to your new role at a company)  \n",
       "35                                                                                                                                                                                                                                                                                       Are you a member of any other online developer communities?  \n",
       "36                                                                                                                                                                                                                                                                 How often do you work overtime or beyond the formal time expectation of your job?  \n",
       "37                                                                                                                                                                                                                                  When buying a new tool or software, how do you discover and research available solutions? Select all that apply.  \n",
       "38                                                                                                                                                                                                                      You search for a coding solution online and the first result link is purple because you already visited it. How do you feel?  \n",
       "39                                                                                                                                                                                                                                                              Which of the following Stack Overflow sites have you visited? Select all that apply.  \n",
       "40                                                                                                                                                                                                                                                                            What do you do when you get stuck on a problem? Select all that apply.  \n",
       "41                                                                                                                                                                                                                                                                                           What is the primary operating system in which you work?  \n",
       "42                                                                                                                                                                                                                                                 Approximately how many people are employed by the company or organization you currently work for?  \n",
       "43                                                                                                   Which platforms have you done extensive development work in over the past year, and which do you want to work in over the next year? (If you both worked with the platform and want to continue to do so, please check both boxes in that row.)  \n",
       "44                                                                                                   Which platforms have you done extensive development work in over the past year, and which do you want to work in over the next year? (If you both worked with the platform and want to continue to do so, please check both boxes in that row.)  \n",
       "45                                                                                                                                                                                                                                              What level of influence do you, personally, have over new technology purchases at your organization?  \n",
       "46                                                                                                                                                                                                         Which of the following describe you, if any? Please check all that apply. If you prefer not to answer, you may leave this question blank.  \n",
       "47                                                                                                                                                                                                                                                                                                             Do you have a Stack Overflow account?  \n",
       "48                                                                                                                                                                                                                                                                                Do you consider yourself a member of the Stack Overflow community?  \n",
       "49                                                                                                                                                                                                     How frequently would you say you participate in Q&A on Stack Overflow? By participate we mean ask, answer, vote for, or comment on questions.  \n",
       "50                                                                                                                                                                                                                                                                                            How frequently would you say you visit Stack Overflow?  \n",
       "51                                                                                                                                                                                                                                                                                                How easy or difficult was this survey to complete?  \n",
       "52                                                                                                                                                                                                                                                                                         How do you feel about the length of the survey this year?  \n",
       "53                                                                                                                                                                                                                                                                                                                              Are you transgender?  \n",
       "54                                                                                                                                                                                                                                                                                                             What was your primary field of study?  \n",
       "55                                                                                             Which web frameworks have you done extensive development work in over the past year, and which do you want to work in over the next year? (If you both worked with the framework and want to continue to do so, please check both boxes in that row.)  \n",
       "56                                                                                             Which web frameworks have you done extensive development work in over the past year, and which do you want to work in over the next year? (If you both worked with the framework and want to continue to do so, please check both boxes in that row.)  \n",
       "57                                                                                                                                                                                                                                                                                 Compared to last year, how welcome do you feel on Stack Overflow?  \n",
       "58                                                                                                                                                                                                                                                          On average, how many hours per week do you work? Please enter a whole number in the box.  \n",
       "59                                                                                                                                                                                                                                                                            Including any education, how many years have you been coding in total?  \n",
       "60                                                                                                                                                                                                                                                   NOT including education, how many years have you coded professionally (as a part of your work)?  "
      ]
     },
     "execution_count": 78,
     "metadata": {},
     "output_type": "execute_result"
    }
   ],
   "source": [
    "#Searching for the necessary columns to answer my questions\n",
    "pd.set_option('display.max_columns', None)\n",
    "pd.set_option('max_rows',100)\n",
    "pd.options.display.max_colwidth = 500 #increasing the number of characters to be read in a row\n",
    "schema20 #Schema of 2020 dataset with the Question texts of each column"
   ]
  },
  {
   "cell_type": "markdown",
   "metadata": {},
   "source": [
    "**Survey 2020 Data - Preparing data for questions 1 and 2**\n"
   ]
  },
  {
   "cell_type": "markdown",
   "metadata": {},
   "source": [
    "Clean"
   ]
  },
  {
   "cell_type": "markdown",
   "metadata": {},
   "source": [
    "*(Column 29: 'NEWEdImp') Is it necessary to have a formal degree to get a developer job (like computer science university degree)?*\n",
    "\n",
    "*(Columns 15 and 1: 'Employment' and 'MainBranch') How many of them work like a devoloper or code sometimes AND think it is important to have a formal degree such computer science degree?*\n",
    "\n",
    "*(Column 54: 'UndergradMajor') And among them, how many did undergraduate in computer science?*"
   ]
  },
  {
   "cell_type": "code",
   "execution_count": 79,
   "metadata": {},
   "outputs": [
    {
     "data": {
      "text/plain": [
       "(48140, 4)"
      ]
     },
     "execution_count": 79,
     "metadata": {},
     "output_type": "execute_result"
    }
   ],
   "source": [
    "#Reducing the data20 to answer questions 1 and 2 about business understanding\n",
    "professionals20 = data20[['MainBranch','UndergradMajor','Employment','NEWEdImpt']].dropna(subset=['MainBranch','Employment','NEWEdImpt'])\n",
    "professionals20.shape\n"
   ]
  },
  {
   "cell_type": "markdown",
   "metadata": {},
   "source": [
    "Analyse"
   ]
  },
  {
   "cell_type": "code",
   "execution_count": 80,
   "metadata": {},
   "outputs": [
    {
     "data": {
      "text/plain": [
       "array(['Computer science, computer engineering, or software engineering',\n",
       "       nan, 'Mathematics or statistics',\n",
       "       'Another engineering discipline (such as civil, electrical, mechanical, etc.)',\n",
       "       'A humanities discipline (such as literature, history, philosophy, etc.)',\n",
       "       'Information systems, information technology, or system administration',\n",
       "       'Web development or web design',\n",
       "       'A natural science (such as biology, chemistry, physics, etc.)',\n",
       "       'Fine arts or performing arts (such as graphic design, music, studio art, etc.)',\n",
       "       'I never declared a major',\n",
       "       'A health science (such as nursing, pharmacy, radiology, etc.)',\n",
       "       'A social science (such as anthropology, psychology, political science, etc.)',\n",
       "       'A business discipline (such as accounting, finance, marketing, etc.)'],\n",
       "      dtype=object)"
      ]
     },
     "execution_count": 80,
     "metadata": {},
     "output_type": "execute_result"
    }
   ],
   "source": [
    "#showing the unique values contained in every column\n",
    "professionals20['UndergradMajor'].unique()"
   ]
  },
  {
   "cell_type": "code",
   "execution_count": 81,
   "metadata": {},
   "outputs": [
    {
     "data": {
      "text/plain": [
       "array(['Independent contractor, freelancer, or self-employed',\n",
       "       'Employed full-time', 'Not employed, but looking for work',\n",
       "       'Employed part-time', 'Retired',\n",
       "       'Not employed, and not looking for work'], dtype=object)"
      ]
     },
     "execution_count": 81,
     "metadata": {},
     "output_type": "execute_result"
    }
   ],
   "source": [
    "professionals20['Employment'].unique()"
   ]
  },
  {
   "cell_type": "code",
   "execution_count": 82,
   "metadata": {},
   "outputs": [
    {
     "data": {
      "text/plain": [
       "array(['I am a developer by profession',\n",
       "       'I used to be a developer by profession, but no longer am',\n",
       "       'I am not primarily a developer, but I write code sometimes as part of my work',\n",
       "       'I code primarily as a hobby'], dtype=object)"
      ]
     },
     "execution_count": 82,
     "metadata": {},
     "output_type": "execute_result"
    }
   ],
   "source": [
    "professionals20['MainBranch'].unique()"
   ]
  },
  {
   "cell_type": "code",
   "execution_count": 83,
   "metadata": {},
   "outputs": [
    {
     "data": {
      "text/plain": [
       "(46710, 4)"
      ]
     },
     "execution_count": 83,
     "metadata": {},
     "output_type": "execute_result"
    }
   ],
   "source": [
    "#Considering the people whose opinion I wanted to consider were the employed ones (or retireds)\n",
    "# (people with know how), I decided to drop the samples from non-employed people\n",
    "\n",
    "#Dropping rows in wich the value of column 'MainBranch' is \"hobby\" and \"student\"\n",
    "formal_degree_and_professional = professionals20[(professionals20.MainBranch != 'I am a student who is learning to code') &\n",
    "                     (professionals20.MainBranch != 'I code primarily as a hobby')]\n",
    "#Dropping rows in wich the value of column 'Employment' is \"Not emploeyd\" and 'Student'\n",
    "formal_degree_and_professional = professionals20[(professionals20.Employment != 'Student') &\n",
    "                     (professionals20.Employment != 'Not employed, and not looking for work') & (professionals20.Employment != 'Not employed, but looking for work')]\n",
    "formal_degree_and_professional.shape\n"
   ]
  },
  {
   "cell_type": "code",
   "execution_count": 84,
   "metadata": {},
   "outputs": [
    {
     "data": {
      "text/html": [
       "<div>\n",
       "<style scoped>\n",
       "    .dataframe tbody tr th:only-of-type {\n",
       "        vertical-align: middle;\n",
       "    }\n",
       "\n",
       "    .dataframe tbody tr th {\n",
       "        vertical-align: top;\n",
       "    }\n",
       "\n",
       "    .dataframe thead th {\n",
       "        text-align: right;\n",
       "    }\n",
       "</style>\n",
       "<table border=\"1\" class=\"dataframe\">\n",
       "  <thead>\n",
       "    <tr style=\"text-align: right;\">\n",
       "      <th></th>\n",
       "      <th>MainBranch</th>\n",
       "      <th>UndergradMajor</th>\n",
       "      <th>Employment</th>\n",
       "      <th>NEWEdImpt</th>\n",
       "    </tr>\n",
       "  </thead>\n",
       "  <tbody>\n",
       "    <tr>\n",
       "      <th>0</th>\n",
       "      <td>I am a developer by profession</td>\n",
       "      <td>Computer science, computer engineering, or software engineering</td>\n",
       "      <td>Independent contractor, freelancer, or self-employed</td>\n",
       "      <td>Fairly important</td>\n",
       "    </tr>\n",
       "    <tr>\n",
       "      <th>1</th>\n",
       "      <td>I am a developer by profession</td>\n",
       "      <td>Computer science, computer engineering, or software engineering</td>\n",
       "      <td>Employed full-time</td>\n",
       "      <td>Fairly important</td>\n",
       "    </tr>\n",
       "    <tr>\n",
       "      <th>4</th>\n",
       "      <td>I used to be a developer by profession, but no longer am</td>\n",
       "      <td>Computer science, computer engineering, or software engineering</td>\n",
       "      <td>Employed full-time</td>\n",
       "      <td>Very important</td>\n",
       "    </tr>\n",
       "    <tr>\n",
       "      <th>5</th>\n",
       "      <td>I am a developer by profession</td>\n",
       "      <td>NaN</td>\n",
       "      <td>Employed full-time</td>\n",
       "      <td>Fairly important</td>\n",
       "    </tr>\n",
       "    <tr>\n",
       "      <th>6</th>\n",
       "      <td>I am a developer by profession</td>\n",
       "      <td>Computer science, computer engineering, or software engineering</td>\n",
       "      <td>Employed full-time</td>\n",
       "      <td>Very important</td>\n",
       "    </tr>\n",
       "  </tbody>\n",
       "</table>\n",
       "</div>"
      ],
      "text/plain": [
       "                                                 MainBranch  \\\n",
       "0                            I am a developer by profession   \n",
       "1                            I am a developer by profession   \n",
       "4  I used to be a developer by profession, but no longer am   \n",
       "5                            I am a developer by profession   \n",
       "6                            I am a developer by profession   \n",
       "\n",
       "                                                    UndergradMajor  \\\n",
       "0  Computer science, computer engineering, or software engineering   \n",
       "1  Computer science, computer engineering, or software engineering   \n",
       "4  Computer science, computer engineering, or software engineering   \n",
       "5                                                              NaN   \n",
       "6  Computer science, computer engineering, or software engineering   \n",
       "\n",
       "                                             Employment         NEWEdImpt  \n",
       "0  Independent contractor, freelancer, or self-employed  Fairly important  \n",
       "1                                    Employed full-time  Fairly important  \n",
       "4                                    Employed full-time    Very important  \n",
       "5                                    Employed full-time  Fairly important  \n",
       "6                                    Employed full-time    Very important  "
      ]
     },
     "execution_count": 84,
     "metadata": {},
     "output_type": "execute_result"
    }
   ],
   "source": [
    "professionals20.head()"
   ]
  },
  {
   "cell_type": "code",
   "execution_count": 85,
   "metadata": {},
   "outputs": [
    {
     "data": {
      "text/plain": [
       "MainBranch           0\n",
       "UndergradMajor    3569\n",
       "Employment           0\n",
       "NEWEdImpt            0\n",
       "dtype: int64"
      ]
     },
     "execution_count": 85,
     "metadata": {},
     "output_type": "execute_result"
    }
   ],
   "source": [
    "#Analysing the presence of Nan's\n",
    "professionals20.isna().sum()\n",
    "#In this case these rows will not be removed because it can indicate that the person \n",
    "#didn't need to do a formal Undergraduate to work as a coder"
   ]
  },
  {
   "cell_type": "code",
   "execution_count": null,
   "metadata": {},
   "outputs": [],
   "source": [
    "#2019\n",
    "#The Nan in these columns were removed because I wanted just the employed people \n",
    "professionals19 = data19[['MainBranch','UndergradMajor', 'Employment']].dropna(subset = ['MainBranch','Employment'])"
   ]
  },
  {
   "cell_type": "code",
   "execution_count": null,
   "metadata": {},
   "outputs": [],
   "source": [
    "#2018\n",
    "#Goal: get the number of professionals who codes and is no from computer sci X total employed or retired\n",
    "professionals18 = data18[['UndergradMajor', 'Employment','DevType']].dropna(subset = ['Employment','DevType'])\n"
   ]
  },
  {
   "cell_type": "code",
   "execution_count": null,
   "metadata": {},
   "outputs": [],
   "source": []
  },
  {
   "cell_type": "markdown",
   "metadata": {},
   "source": [
    "**Evaluating the results** "
   ]
  },
  {
   "cell_type": "markdown",
   "metadata": {},
   "source": [
    "**QUESTION 1. How important is a formal education, such as a university degree in computer science, to your career?**"
   ]
  },
  {
   "cell_type": "code",
   "execution_count": 86,
   "metadata": {},
   "outputs": [
    {
     "data": {
      "image/png": "[encoded data removed]",
      "text/plain": [
       "<Figure size 432x288 with 1 Axes>"
      ]
     },
     "metadata": {
      "needs_background": "light"
     },
     "output_type": "display_data"
    }
   ],
   "source": [
    "#Plot: professional or someone who codes X answers number of each category of importance\n",
    "\n",
    "y = formal_degree_and_professional['NEWEdImpt'].value_counts()/formal_degree_and_professional.shape[0]*100\n",
    "values_y = y.values.tolist()\n",
    "index_y = y.index.tolist()\n",
    "x = np.arange(len(index_y)) #the label locations\n",
    "width = 0.35  # the width of the bars\n",
    "fig, ax = plt.subplots()\n",
    "rects1 = ax.bar(x, values_y, width, label='Form. Degree Import.')\n",
    "ax.set_ylabel('Proportion of formal degree import.')\n",
    "ax.set_title('Between everyone who codes at work, what is their opinion about having a formal degree in Computer Science?')\n",
    "ax.set_xticks(x)\n",
    "ax.set_xticklabels(index_y, rotation=90)\n",
    "ax.legend()\n",
    "ax.bar_label(rects1, padding=0)\n",
    "\n",
    "plt.show()"
   ]
  },
  {
   "cell_type": "markdown",
   "metadata": {},
   "source": [
    "This first plot shows the histogram of different opinions of EVERYONE who works coding in the dataset from 2020. The marjority recognizes somehow the importance of doing a formal course in Computer Science."
   ]
  },
  {
   "cell_type": "code",
   "execution_count": 87,
   "metadata": {},
   "outputs": [],
   "source": [
    "#Dropping rows in wich the value of column 'UndergradMajor' is different of Computer Science\n",
    "formal_degree_and_compSci = professionals20[(professionals20UndergradMajor == \"Computer science, computer engineering, or software engineering\")]"
   ]
  },
  {
   "cell_type": "code",
   "execution_count": 88,
   "metadata": {},
   "outputs": [
    {
     "data": {
      "text/plain": [
       "(27497, 4)"
      ]
     },
     "execution_count": 88,
     "metadata": {},
     "output_type": "execute_result"
    }
   ],
   "source": [
    "formal_degree_and_compSci.shape \n"
   ]
  },
  {
   "cell_type": "markdown",
   "metadata": {},
   "source": [
    "**QUESTION 2. Is there any bias in this importance opinion depending on the degree they have?**"
   ]
  },
  {
   "cell_type": "markdown",
   "metadata": {},
   "source": [
    "*Analysing and Visualizing 2020 data for question 2.*"
   ]
  },
  {
   "cell_type": "code",
   "execution_count": 89,
   "metadata": {},
   "outputs": [
    {
     "data": {
      "image/png": "[encoded data removed]",
      "text/plain": [
       "<Figure size 432x288 with 1 Axes>"
      ]
     },
     "metadata": {
      "needs_background": "light"
     },
     "output_type": "display_data"
    }
   ],
   "source": [
    "#professional and Computer Scientist X number of each category of importance\n",
    "\n",
    "y1 = formal_degree_and_compSci['NEWEdImpt'].value_counts()/formal_degree_and_compSci.shape[0]*100\n",
    "values_y1 = y1.values.tolist()\n",
    "index_y1 = y1.index.tolist()\n",
    "x1 = np.arange(len(index_y1)) #the label locations\n",
    "width1 = 0.35  # the width of the bars\n",
    "fig1, ax1 = plt.subplots()\n",
    "rects2 = ax1.bar(x1, values_y1, width1, label='Form. Degree Import.')\n",
    "ax1.set_ylabel('Proportion of formal degree import.')\n",
    "ax1.set_title('Between everyone who is Computer Scientist, it is important to have a formal degree in Computer Science?')\n",
    "ax1.set_xticks(x1)\n",
    "ax1.set_xticklabels(index_y1, rotation=90)\n",
    "ax1.legend()\n",
    "ax1.bar_label(rects2, padding=0)\n",
    "\n",
    "plt.show()"
   ]
  },
  {
   "cell_type": "markdown",
   "metadata": {},
   "source": [
    "This plot shows the same information of the last one , but it represents only the answer from the people who works coding AND are Computer Scientists. Now the marjority believes that is VERY important have a formal degree in Computer Science (their own degree and profession)."
   ]
  },
  {
   "cell_type": "code",
   "execution_count": 90,
   "metadata": {},
   "outputs": [
    {
     "data": {
      "text/plain": [
       "(20643, 4)"
      ]
     },
     "execution_count": 90,
     "metadata": {},
     "output_type": "execute_result"
    }
   ],
   "source": [
    "#Dropping rows in wich the value of column 'UndergradMajor' is Computer Science, but including NaN\n",
    "formal_degree_and_not_compSci = professionals20[(professionals20.UndergradMajor != \"Computer science, computer engineering, or software engineering\")]\n",
    "formal_degree_and_not_compSci.shape "
   ]
  },
  {
   "cell_type": "code",
   "execution_count": 91,
   "metadata": {},
   "outputs": [
    {
     "data": {
      "image/png": "[encoded data removed]",
      "text/plain": [
       "<Figure size 432x288 with 1 Axes>"
      ]
     },
     "metadata": {
      "needs_background": "light"
     },
     "output_type": "display_data"
    }
   ],
   "source": [
    "#professional and not a Computer Scientist X number of each category of importance\n",
    "\n",
    "y2 = formal_degree_and_not_compSci['NEWEdImpt'].value_counts()/formal_degree_and_not_compSci.shape[0]*100\n",
    "values_y2 = y2.values.tolist()\n",
    "index_y2 = y2.index.tolist()\n",
    "x2 = np.arange(len(index_y2)) #the label locations\n",
    "width2 = 0.35  # the width of the bars\n",
    "fig2, ax2 = plt.subplots()\n",
    "rects3 = ax2.bar(x2, values_y2, width2, label='Form. Degree Import.')\n",
    "ax2.set_ylabel('Proportion of formal degree import.')\n",
    "ax2.set_title('Between everyone who is NOT formaly a Computer Scientist, it is important to have a formal degree in Computer Science?')\n",
    "ax2.set_xticks(x2)\n",
    "ax2.set_xticklabels(index_y2, rotation=90)\n",
    "ax2.legend()\n",
    "ax2.bar_label(rects3, padding=1)\n",
    "\n",
    "plt.show()"
   ]
  },
  {
   "cell_type": "markdown",
   "metadata": {},
   "source": [
    "This plot shows the same information of the first two, but it represents only the answer from the people who works coding AND are NOT Computer Scientists. Now the marjority believes that is SOMEWHAT important or NOT at all important have a formal degree in Computer Science. They achieved their career level by others manners, so probabily they think the formal degree something relatively important, but not essencial."
   ]
  },
  {
   "cell_type": "code",
   "execution_count": 92,
   "metadata": {},
   "outputs": [
    {
     "data": {
      "image/png": "[encoded data removed]",
      "text/plain": [
       "<Figure size 432x288 with 1 Axes>"
      ]
     },
     "metadata": {
      "needs_background": "light"
     },
     "output_type": "display_data"
    }
   ],
   "source": [
    "#Plotting the three charts in one \n",
    "data_index = ['Not at all important/necessary', 'Somewhat important', 'Fairly important','Very Important', 'Critically important']\n",
    "general = [15.9,23.5,26.3,24.5,9.8]\n",
    "CS = [9.6,21.0,29.0,29.1,11.2]\n",
    "non_CS = [24.5,26.9,22.4,18.3,7.9]\n",
    "\n",
    "data = [general,CS, non_CS]\n",
    "X = np.arange(5)\n",
    "line1, = plt.plot(X+0.375, data[0],color='red', marker='o', label = 'All coders')\n",
    "bar2 = plt.bar(X + 0.25, data[1], width = 0.25, color = 'g')\n",
    "bar3 = plt.bar(X + 0.50, data[2], width = 0.25, color = 'b')\n",
    "plt.xticks(X+0.25,data_index,rotation=90)\n",
    "\n",
    "plt.xlabel(\"Importance\")\n",
    "plt.ylabel('Freq. of each import./total answers(%)')\n",
    "plt.title(\"Percentage of importance of Comp. Science formal degree to each group of coders\")\n",
    "plt.bar_label(bar2,padding=0)\n",
    "plt.bar_label(bar3,padding=0)\n",
    "\n",
    "legend_elements = [Line2D([0], [0], color='r', lw=4, label='All'),\n",
    "                   Patch(facecolor='g', edgecolor='g',\n",
    "                         label='CS'),\n",
    "                   Patch(facecolor='b', edgecolor='b',\n",
    "                         label='non CS')]\n",
    "\n",
    "plt.legend(handles=legend_elements)\n",
    "plt.show()\n"
   ]
  },
  {
   "cell_type": "markdown",
   "metadata": {},
   "source": [
    "In the above graph we can see the results of the past three graphs. It shows the percentage per opinion of three groups: all coders who works(ALL = CS + non CS), computer scientists (CS) and the rest of the coders that aren't computer scientists (non CS). It is clear the bias between the groups, the people who is  CSs tend to give a bigger relevance to their formal degree than the people who are not CSs, and the red line tendendy follow the CS result because between the coders, the CSs are marjority. "
   ]
  },
  {
   "cell_type": "markdown",
   "metadata": {},
   "source": [
    "<b>QUESTION 3. Evaluating the people who had not a formal degree in some course related to Comp. Sci, Web Development or Information Sytem (a lot programming at Undergrad). How they are getting into the field proportionally along the time (number of non-formal degrees in computation employees/time)? <b>\n",
    "\n"
   ]
  },
  {
   "cell_type": "markdown",
   "metadata": {},
   "source": [
    "*Data preparation for question 3:*"
   ]
  },
  {
   "cell_type": "code",
   "execution_count": 93,
   "metadata": {},
   "outputs": [],
   "source": [
    "#Getting the number of non computer science professionals who works/worked with code\n",
    "dev_not_compSci_20 = professionals20[(professionals20.UndergradMajor != 'Computer science, computer engineering, or software engineering') & \n",
    "                                     (professionals20.UndergradMajor != 'Web development or web design') & \n",
    "                                  (professionals20.UndergradMajor != 'Information systems, information technology, or system administration')]\n",
    "\n",
    "#Ratio between the number of non computer scientists who works coding and the total\n",
    "not_dev_degree_professionals20 = dev_not_compSci_20.shape[0]\n",
    "ratio20 = not_dev_degree_professionals20/professionals20.shape[0]*100\n"
   ]
  },
  {
   "cell_type": "code",
   "execution_count": 94,
   "metadata": {},
   "outputs": [],
   "source": [
    "#Getting statistics of dev or coder professionals profile from 2019 dataset \n",
    "\n",
    "\n",
    "#Filtering the rows from whose values are different from coder people employed or retired\n",
    "filt_professionals19 = professionals19[(professionals19.MainBranch != 'I am a student who is learning to code') &\n",
    "                     (professionals19.MainBranch != 'I code primarily as a hobby')]\n",
    "filt_professionals19 = filt_professionals19[(filt_professionals19.Employment != 'Not employed, and not looking for work') \n",
    "                                           & (filt_professionals19.Employment != 'Not employed, and looking for work')\n",
    "                                           & (filt_professionals19.Employment != 'Student')]\n",
    "\n",
    "#Filtering from people who have a computer science degree or some other related field\n",
    "dev_not_compSci_19 = filt_professionals19[(filt_professionals19.UndergradMajor != 'Computer science, computer engineering, or software engineering') & \n",
    "                                     (filt_professionals19.UndergradMajor != 'Web development or web design') & \n",
    "                                  (filt_professionals19.UndergradMajor != 'Information systems, information technology, or system administration')]\n",
    "\n",
    "#Ratio between the number of non computer scientists who works coding and the total\n",
    "ratio19 = dev_not_compSci_19.shape[0]/filt_professionals19.shape[0]*100\n",
    "\n",
    "\n"
   ]
  },
  {
   "cell_type": "code",
   "execution_count": 95,
   "metadata": {},
   "outputs": [],
   "source": [
    "#Getting statistics of dev or coder professionals profile from 2018 dataset \n",
    "\n",
    "#Filtering who is not employed\n",
    "professionals18 = professionals18[(professionals18.Employment != 'Not employed, and not looking for work')\n",
    "                                 & (professionals18.Employment != 'Not employed, but looking for work') ]\n"
   ]
  },
  {
   "cell_type": "code",
   "execution_count": 96,
   "metadata": {},
   "outputs": [
    {
     "name": "stdout",
     "output_type": "stream",
     "text": [
      "Designer /\n",
      "Student /\n",
      "Data or business analyst;Data scientist or machine learning specialist;Database administrator;DevOps specialist /\n",
      "Data scientist or machine learning specialist;Student /\n",
      "C-suite executive (CEO, CTO, etc.) /\n",
      "Data or business analyst;Database administrator;DevOps specialist;System administrator /\n",
      "Data scientist or machine learning specialist /\n",
      "DevOps specialist /\n",
      "Data or business analyst /\n",
      "Data scientist or machine learning specialist;Database administrator /\n",
      "Data scientist or machine learning specialist;Engineering manager /\n",
      "System administrator /\n",
      "Database administrator;DevOps specialist;System administrator /\n",
      "Engineering manager /\n",
      "Data scientist or machine learning specialist;Educator or academic researcher /\n",
      "Database administrator;Designer /\n",
      "Marketing or sales professional /\n",
      "Data or business analyst;Data scientist or machine learning specialist /\n",
      "Data or business analyst;Data scientist or machine learning specialist;Engineering manager /\n",
      "Database administrator;System administrator /\n",
      "Educator or academic researcher /\n",
      "Database administrator;Student;System administrator /\n",
      "Data or business analyst;Educator or academic researcher /\n",
      "DevOps specialist;System administrator /\n",
      "Data or business analyst;Data scientist or machine learning specialist;Educator or academic researcher /\n",
      "Database administrator /\n",
      "Data or business analyst;System administrator /\n",
      "Student;System administrator /\n",
      "Engineering manager;Marketing or sales professional;Product manager /\n",
      "Database administrator;Designer;System administrator /\n",
      "Product manager /\n",
      "Data or business analyst;Data scientist or machine learning specialist;Student /\n",
      "Data or business analyst;Database administrator /\n",
      "Data scientist or machine learning specialist;System administrator /\n",
      "Data or business analyst;Data scientist or machine learning specialist;Designer /\n",
      "DevOps specialist;Engineering manager /\n",
      "C-suite executive (CEO, CTO, etc.);Data or business analyst /\n",
      "Data or business analyst;DevOps specialist;Engineering manager;Product manager /\n",
      "Designer;Engineering manager;System administrator /\n",
      "Data or business analyst;Product manager /\n",
      "Data scientist or machine learning specialist;Marketing or sales professional /\n",
      "Designer;Engineering manager;Product manager /\n",
      "C-suite executive (CEO, CTO, etc.);Engineering manager /\n",
      "Database administrator;Student /\n",
      "Data scientist or machine learning specialist;Educator or academic researcher;Student /\n",
      "Database administrator;DevOps specialist /\n",
      "Data or business analyst;Data scientist or machine learning specialist;Database administrator /\n",
      "C-suite executive (CEO, CTO, etc.);Data or business analyst;Engineering manager;Product manager /\n",
      "Data or business analyst;Engineering manager;Product manager /\n",
      "DevOps specialist;Student /\n",
      "Data or business analyst;Marketing or sales professional /\n",
      "Educator or academic researcher;Student /\n",
      "Data or business analyst;Designer;Educator or academic researcher /\n",
      "Data or business analyst;Educator or academic researcher;System administrator /\n",
      "Marketing or sales professional;Product manager /\n",
      "Database administrator;Educator or academic researcher;System administrator /\n",
      "Data or business analyst;Educator or academic researcher;Student /\n",
      "C-suite executive (CEO, CTO, etc.);Marketing or sales professional;Product manager /\n",
      "Designer;Educator or academic researcher;Marketing or sales professional;Student /\n",
      "Data or business analyst;Student;System administrator /\n",
      "C-suite executive (CEO, CTO, etc.);Engineering manager;Product manager /\n",
      "Data or business analyst;Student /\n",
      "DevOps specialist;Product manager /\n",
      "DevOps specialist;Student;System administrator /\n",
      "Data or business analyst;Designer;Student /\n",
      "Designer;DevOps specialist;System administrator /\n",
      "Data or business analyst;DevOps specialist;System administrator /\n",
      "Data scientist or machine learning specialist;DevOps specialist;Student /\n",
      "Engineering manager;Product manager /\n",
      "Data or business analyst;DevOps specialist;Engineering manager /\n",
      "Designer;Marketing or sales professional;Student /\n",
      "Data or business analyst;Data scientist or machine learning specialist;Database administrator;Educator or academic researcher /\n",
      "Designer;Engineering manager /\n",
      "Database administrator;Marketing or sales professional /\n",
      "Designer;Student /\n",
      "Data or business analyst;Database administrator;System administrator /\n",
      "Data or business analyst;Product manager;Student /\n",
      "Data or business analyst;Product manager;System administrator /\n",
      "C-suite executive (CEO, CTO, etc.);Data or business analyst;Designer;Product manager;System administrator /\n",
      "Engineering manager;Product manager;System administrator /\n",
      "Database administrator;Product manager /\n",
      "DevOps specialist;Marketing or sales professional;System administrator /\n",
      "C-suite executive (CEO, CTO, etc.);Data scientist or machine learning specialist /\n",
      "Data or business analyst;Data scientist or machine learning specialist;Educator or academic researcher;Student /\n",
      "Designer;Marketing or sales professional /\n",
      "Data scientist or machine learning specialist;Designer;Engineering manager /\n",
      "Data or business analyst;Database administrator;Designer;Educator or academic researcher;Marketing or sales professional;Product manager;System administrator /\n",
      "C-suite executive (CEO, CTO, etc.);Database administrator;System administrator /\n",
      "Data or business analyst;Engineering manager /\n",
      "Data scientist or machine learning specialist;DevOps specialist;Engineering manager /\n",
      "C-suite executive (CEO, CTO, etc.);Data or business analyst;Product manager /\n",
      "Data or business analyst;Data scientist or machine learning specialist;Database administrator;Educator or academic researcher;System administrator /\n",
      "Designer;Engineering manager;Student /\n",
      "Database administrator;Engineering manager;Product manager;System administrator /\n",
      "Data or business analyst;Database administrator;Designer;System administrator /\n",
      "DevOps specialist;Engineering manager;Product manager /\n",
      "Educator or academic researcher;Marketing or sales professional;Product manager;Student /\n",
      "Data or business analyst;Database administrator;Student;System administrator /\n",
      "Engineering manager;Marketing or sales professional /\n",
      "Data scientist or machine learning specialist;Database administrator;System administrator /\n",
      "Designer;Educator or academic researcher;Student /\n",
      "C-suite executive (CEO, CTO, etc.);Data or business analyst;Data scientist or machine learning specialist /\n",
      "Data scientist or machine learning specialist;DevOps specialist;System administrator /\n",
      "Data or business analyst;Database administrator;Designer /\n",
      "Educator or academic researcher;Product manager /\n",
      "Data or business analyst;Database administrator;DevOps specialist;Engineering manager;System administrator /\n",
      "C-suite executive (CEO, CTO, etc.);Data scientist or machine learning specialist;DevOps specialist;Engineering manager /\n",
      "DevOps specialist;Marketing or sales professional /\n",
      "Data or business analyst;Data scientist or machine learning specialist;Product manager /\n",
      "Data or business analyst;Data scientist or machine learning specialist;Educator or academic researcher;Marketing or sales professional /\n",
      "Data or business analyst;Data scientist or machine learning specialist;DevOps specialist;Engineering manager /\n",
      "Designer;DevOps specialist /\n",
      "Designer;System administrator /\n",
      "Database administrator;Engineering manager;Student;System administrator /\n",
      "Data scientist or machine learning specialist;Educator or academic researcher;Engineering manager /\n",
      "Data scientist or machine learning specialist;Educator or academic researcher;System administrator /\n",
      "Database administrator;DevOps specialist;Engineering manager;System administrator /\n",
      "Data or business analyst;DevOps specialist;Student;System administrator /\n",
      "C-suite executive (CEO, CTO, etc.);DevOps specialist;Engineering manager /\n",
      "Data or business analyst;Data scientist or machine learning specialist;DevOps specialist /\n",
      "C-suite executive (CEO, CTO, etc.);Data scientist or machine learning specialist;Database administrator /\n",
      "Data or business analyst;Data scientist or machine learning specialist;Database administrator;Designer;Educator or academic researcher;Engineering manager /\n",
      "Database administrator;DevOps specialist;Student;System administrator /\n",
      "C-suite executive (CEO, CTO, etc.);System administrator /\n",
      "C-suite executive (CEO, CTO, etc.);Database administrator;Designer;Engineering manager;System administrator /\n",
      "Data or business analyst;Data scientist or machine learning specialist;Database administrator;System administrator /\n",
      "Data scientist or machine learning specialist;Product manager /\n",
      "Educator or academic researcher;Engineering manager /\n",
      "Data or business analyst;Data scientist or machine learning specialist;Engineering manager;Product manager /\n",
      "Designer;Educator or academic researcher /\n",
      "Data scientist or machine learning specialist;DevOps specialist /\n",
      "Data or business analyst;Designer /\n",
      "Engineering manager;System administrator /\n",
      "Data or business analyst;Data scientist or machine learning specialist;Educator or academic researcher;Marketing or sales professional;Student /\n",
      "Data scientist or machine learning specialist;Engineering manager;Student /\n",
      "Designer;Product manager /\n",
      "Data or business analyst;Data scientist or machine learning specialist;DevOps specialist;System administrator /\n",
      "C-suite executive (CEO, CTO, etc.);Product manager /\n",
      "Data or business analyst;Data scientist or machine learning specialist;Educator or academic researcher;Marketing or sales professional;Product manager;Student /\n",
      "Data or business analyst;Data scientist or machine learning specialist;Database administrator;Educator or academic researcher;Student /\n",
      "Data or business analyst;DevOps specialist /\n",
      "Data or business analyst;Data scientist or machine learning specialist;Database administrator;DevOps specialist;Marketing or sales professional /\n",
      "Data or business analyst;Designer;Product manager /\n",
      "Educator or academic researcher;Engineering manager;Student;System administrator /\n",
      "Designer;Product manager;System administrator /\n",
      "Database administrator;DevOps specialist;Engineering manager;Product manager;System administrator /\n",
      "Data or business analyst;Data scientist or machine learning specialist;Database administrator;Student /\n",
      "Data or business analyst;Data scientist or machine learning specialist;Marketing or sales professional;Product manager /\n",
      "C-suite executive (CEO, CTO, etc.);DevOps specialist;Engineering manager;System administrator /\n",
      "Data or business analyst;Data scientist or machine learning specialist;Database administrator;Designer;Student /\n",
      "DevOps specialist;Engineering manager;System administrator /\n",
      "Data or business analyst;Data scientist or machine learning specialist;Designer;Student /\n",
      "Data scientist or machine learning specialist;Database administrator;DevOps specialist /\n",
      "Data or business analyst;Database administrator;DevOps specialist /\n",
      "Data scientist or machine learning specialist;DevOps specialist;Educator or academic researcher;System administrator /\n",
      "Data scientist or machine learning specialist;DevOps specialist;Educator or academic researcher /\n",
      "C-suite executive (CEO, CTO, etc.);Product manager;System administrator /\n",
      "Database administrator;Engineering manager /\n",
      "Data or business analyst;Data scientist or machine learning specialist;Marketing or sales professional /\n",
      "DevOps specialist;Product manager;System administrator /\n",
      "Educator or academic researcher;Engineering manager;Product manager /\n",
      "Designer;DevOps specialist;Engineering manager;Product manager /\n",
      "Database administrator;DevOps specialist;Engineering manager /\n",
      "Data or business analyst;Data scientist or machine learning specialist;Designer;Marketing or sales professional /\n",
      "C-suite executive (CEO, CTO, etc.);Data scientist or machine learning specialist;Engineering manager /\n",
      "Designer;Educator or academic researcher;Engineering manager /\n",
      "Data or business analyst;Designer;Educator or academic researcher;Student /\n",
      "Data or business analyst;Database administrator;Student /\n",
      "Data or business analyst;Marketing or sales professional;System administrator /\n",
      "Database administrator;Engineering manager;System administrator /\n",
      "Product manager;Student /\n",
      "Database administrator;Designer;DevOps specialist;System administrator /\n",
      "Data or business analyst;Data scientist or machine learning specialist;Database administrator;Product manager /\n",
      "Data scientist or machine learning specialist;Designer /\n",
      "Data scientist or machine learning specialist;Engineering manager;Product manager /\n",
      "Data or business analyst;Database administrator;Educator or academic researcher /\n",
      "Engineering manager;Marketing or sales professional;System administrator /\n",
      "Data scientist or machine learning specialist;Student;System administrator /\n",
      "Data scientist or machine learning specialist;Designer;Educator or academic researcher;Engineering manager /\n",
      "Designer;Engineering manager;Product manager;System administrator /\n",
      "Data or business analyst;Data scientist or machine learning specialist;Database administrator;Student;System administrator /\n",
      "DevOps specialist;Educator or academic researcher;Engineering manager;Marketing or sales professional /\n",
      "Data or business analyst;Data scientist or machine learning specialist;Database administrator;DevOps specialist;Engineering manager /\n",
      "C-suite executive (CEO, CTO, etc.);Data or business analyst;Data scientist or machine learning specialist;Student /\n",
      "Data or business analyst;Data scientist or machine learning specialist;Database administrator;DevOps specialist;System administrator /\n",
      "DevOps specialist;Educator or academic researcher /\n",
      "Data or business analyst;Database administrator;Product manager;System administrator /\n",
      "Educator or academic researcher;System administrator /\n",
      "Data scientist or machine learning specialist;Designer;Student /\n",
      "Designer;Product manager;Student /\n",
      "Data or business analyst;Designer;Engineering manager /\n",
      "Marketing or sales professional;Student /\n",
      "Data scientist or machine learning specialist;Designer;Educator or academic researcher;Student /\n",
      "Data or business analyst;Data scientist or machine learning specialist;Database administrator;Engineering manager;Product manager /\n",
      "Data or business analyst;Data scientist or machine learning specialist;DevOps specialist;Educator or academic researcher /\n",
      "Database administrator;Educator or academic researcher /\n",
      "Data or business analyst;DevOps specialist;Product manager /\n",
      "Database administrator;Engineering manager;Marketing or sales professional;Product manager /\n",
      "C-suite executive (CEO, CTO, etc.);Data or business analyst;Database administrator;Product manager;System administrator /\n",
      "Data scientist or machine learning specialist;Educator or academic researcher;Product manager /\n",
      "Data scientist or machine learning specialist;Database administrator;Designer /\n",
      "Data scientist or machine learning specialist;Database administrator;Student /\n",
      "C-suite executive (CEO, CTO, etc.);Data or business analyst;Data scientist or machine learning specialist;Database administrator;Product manager;System administrator /\n",
      "Educator or academic researcher;Marketing or sales professional /\n",
      "Engineering manager;Student /\n",
      "Data scientist or machine learning specialist;Database administrator;Designer;System administrator /\n",
      "Data or business analyst;Engineering manager;Marketing or sales professional;Product manager /\n",
      "C-suite executive (CEO, CTO, etc.);Marketing or sales professional /\n",
      "Data scientist or machine learning specialist;Database administrator;Educator or academic researcher /\n",
      "Data or business analyst;Data scientist or machine learning specialist;Educator or academic researcher;System administrator /\n",
      "Data or business analyst;Database administrator;Educator or academic researcher;Marketing or sales professional /\n",
      "Data scientist or machine learning specialist;Database administrator;Educator or academic researcher;Engineering manager;System administrator /\n",
      "Designer;Engineering manager;Marketing or sales professional;Student;System administrator /\n",
      "Data scientist or machine learning specialist;Database administrator;Educator or academic researcher;Student /\n",
      "DevOps specialist;Educator or academic researcher;System administrator /\n",
      "Data or business analyst;Data scientist or machine learning specialist;Database administrator;Designer;Educator or academic researcher;System administrator /\n",
      "Data or business analyst;Data scientist or machine learning specialist;DevOps specialist;Student /\n",
      "Data scientist or machine learning specialist;Database administrator;Educator or academic researcher;System administrator /\n",
      "Data or business analyst;Database administrator;Engineering manager;Product manager /\n",
      "Data or business analyst;Data scientist or machine learning specialist;Educator or academic researcher;Student;System administrator /\n",
      "Data or business analyst;Data scientist or machine learning specialist;Database administrator;Engineering manager /\n",
      "DevOps specialist;Educator or academic researcher;Engineering manager /\n",
      "Data scientist or machine learning specialist;Designer;Educator or academic researcher /\n",
      "Marketing or sales professional;Product manager;Student /\n",
      "Marketing or sales professional;Product manager;System administrator /\n",
      "C-suite executive (CEO, CTO, etc.);Data scientist or machine learning specialist;Student /\n",
      "Data or business analyst;Database administrator;Designer;Student /\n",
      "Data or business analyst;Designer;DevOps specialist;System administrator /\n",
      "Data scientist or machine learning specialist;Database administrator;Engineering manager /\n",
      "Data scientist or machine learning specialist;Database administrator;DevOps specialist;System administrator /\n",
      "C-suite executive (CEO, CTO, etc.);Educator or academic researcher /\n",
      "C-suite executive (CEO, CTO, etc.);Database administrator;Product manager;System administrator /\n",
      "DevOps specialist;Engineering manager;Product manager;System administrator /\n",
      "Product manager;System administrator /\n",
      "Database administrator;Engineering manager;Product manager /\n",
      "Designer;DevOps specialist;Engineering manager /\n",
      "Database administrator;Product manager;System administrator /\n",
      "Data or business analyst;Database administrator;Engineering manager /\n",
      "Data or business analyst;Educator or academic researcher;Marketing or sales professional /\n",
      "C-suite executive (CEO, CTO, etc.);Data scientist or machine learning specialist;Educator or academic researcher;Engineering manager;Product manager /\n",
      "Data or business analyst;Data scientist or machine learning specialist;Database administrator;Designer /\n",
      "Data or business analyst;Data scientist or machine learning specialist;Designer;Educator or academic researcher;Student;System administrator /\n",
      "Designer;Student;System administrator /\n",
      "Database administrator;DevOps specialist;Student /\n",
      "Educator or academic researcher;Student;System administrator /\n",
      "C-suite executive (CEO, CTO, etc.);Engineering manager;System administrator /\n",
      "Data or business analyst;Data scientist or machine learning specialist;Designer;Educator or academic researcher;Engineering manager;System administrator /\n",
      "Data scientist or machine learning specialist;Educator or academic researcher;Student;System administrator /\n",
      "Database administrator;Designer;Student /\n",
      "Data or business analyst;Designer;DevOps specialist;Educator or academic researcher /\n",
      "C-suite executive (CEO, CTO, etc.);Data scientist or machine learning specialist;DevOps specialist /\n",
      "C-suite executive (CEO, CTO, etc.);Database administrator;Designer;Product manager /\n",
      "Designer;DevOps specialist;Student /\n",
      "Data or business analyst;Database administrator;Engineering manager;Product manager;System administrator /\n",
      "Data scientist or machine learning specialist;DevOps specialist;Product manager /\n",
      "DevOps specialist;Engineering manager;Marketing or sales professional /\n",
      "Data or business analyst;Data scientist or machine learning specialist;Designer;DevOps specialist /\n",
      "Data scientist or machine learning specialist;Engineering manager;Marketing or sales professional /\n",
      "Data or business analyst;Database administrator;Product manager /\n",
      "C-suite executive (CEO, CTO, etc.);Data or business analyst;Data scientist or machine learning specialist;Product manager /\n",
      "Database administrator;Designer;DevOps specialist;Educator or academic researcher;Product manager /\n",
      "Data or business analyst;Data scientist or machine learning specialist;System administrator /\n",
      "C-suite executive (CEO, CTO, etc.);Data or business analyst;Data scientist or machine learning specialist;Database administrator;Designer /\n",
      "Designer;Marketing or sales professional;Student;System administrator /\n",
      "Data scientist or machine learning specialist;Designer;DevOps specialist /\n",
      "C-suite executive (CEO, CTO, etc.);Data scientist or machine learning specialist;Database administrator;Student /\n",
      "Data scientist or machine learning specialist;Educator or academic researcher;Marketing or sales professional /\n",
      "C-suite executive (CEO, CTO, etc.);Designer /\n",
      "Designer;Product manager;Student;System administrator /\n",
      "Data or business analyst;Educator or academic researcher;Engineering manager;Product manager /\n",
      "C-suite executive (CEO, CTO, etc.);Data or business analyst;Engineering manager /\n",
      "C-suite executive (CEO, CTO, etc.);Data scientist or machine learning specialist;Marketing or sales professional;Student /\n",
      "C-suite executive (CEO, CTO, etc.);Data or business analyst;Designer;System administrator /\n",
      "C-suite executive (CEO, CTO, etc.);DevOps specialist /\n",
      "C-suite executive (CEO, CTO, etc.);Data or business analyst;Data scientist or machine learning specialist;Database administrator;Engineering manager /\n",
      "C-suite executive (CEO, CTO, etc.);Data scientist or machine learning specialist;System administrator /\n",
      "Data or business analyst;Data scientist or machine learning specialist;Designer;Educator or academic researcher /\n",
      "C-suite executive (CEO, CTO, etc.);Data scientist or machine learning specialist;Educator or academic researcher;Engineering manager /\n",
      "C-suite executive (CEO, CTO, etc.);Data scientist or machine learning specialist;Educator or academic researcher /\n",
      "Data scientist or machine learning specialist;Designer;Educator or academic researcher;Marketing or sales professional;Student /\n",
      "Data or business analyst;Designer;Engineering manager;Product manager /\n",
      "C-suite executive (CEO, CTO, etc.);Data or business analyst;System administrator /\n",
      "C-suite executive (CEO, CTO, etc.);Student /\n",
      "C-suite executive (CEO, CTO, etc.);Designer;DevOps specialist;Engineering manager;Product manager;System administrator /\n",
      "C-suite executive (CEO, CTO, etc.);Data or business analyst;Marketing or sales professional;System administrator /\n",
      "C-suite executive (CEO, CTO, etc.);Data or business analyst;Database administrator;System administrator /\n",
      "Data or business analyst;Database administrator;DevOps specialist;Marketing or sales professional;System administrator /\n",
      "Data scientist or machine learning specialist;Educator or academic researcher;Engineering manager;System administrator /\n",
      "C-suite executive (CEO, CTO, etc.);Student;System administrator /\n",
      "Data scientist or machine learning specialist;Designer;Student;System administrator /\n",
      "C-suite executive (CEO, CTO, etc.);Engineering manager;Marketing or sales professional;Student /\n",
      "C-suite executive (CEO, CTO, etc.);Designer;Marketing or sales professional /\n",
      "Engineering manager;Marketing or sales professional;Student /\n",
      "C-suite executive (CEO, CTO, etc.);Engineering manager;Student /\n",
      "C-suite executive (CEO, CTO, etc.);Designer;Product manager /\n",
      "Data scientist or machine learning specialist;Marketing or sales professional;Product manager /\n",
      "Database administrator;Designer;Student;System administrator /\n",
      "Educator or academic researcher;Engineering manager;Student /\n"
     ]
    }
   ],
   "source": [
    "#Checking which not dev professions are contained in DevType in 2018 dataset\n",
    "np.set_printoptions(threshold=np.inf)\n",
    "not_dev_professions = []\n",
    "for profession in professionals18['DevType'].unique():\n",
    "    if 'developer' not in profession:\n",
    "        if profession not in not_dev_professions:\n",
    "            print(profession, '/')\n",
    "            not_dev_professions.append(profession)\n",
    "#The result bellow shows all the unique possibilities of answers combination of DevType          \n",
    "            \n",
    "    "
   ]
  },
  {
   "cell_type": "code",
   "execution_count": 97,
   "metadata": {},
   "outputs": [],
   "source": [
    "#Filtering who does not work in the market coding from the above list\n",
    "professionals18 = professionals18[('C-suite executive (CEO, CTO, etc.)' != professionals18.DevType) & \n",
    "('Student' != professionals18.DevType)& \n",
    "('Designer' != professionals18.DevType)&\n",
    "('Marketing or sales professional' != professionals18.DevType)&\n",
    "('Educator or academic researcher'!= professionals18.DevType)]"
   ]
  },
  {
   "cell_type": "code",
   "execution_count": 98,
   "metadata": {},
   "outputs": [],
   "source": [
    "#Getting the number of people who works in the market coding somehow without a formal degree in computation \n",
    "non_compSci18 = professionals18[(professionals18.UndergradMajor != 'Computer science, computer engineering, or software engineering')\n",
    "                & (professionals18.UndergradMajor != 'Information systems, information technology, or system administration')\n",
    "                & (professionals18.UndergradMajor != 'Web development or web design')]"
   ]
  },
  {
   "cell_type": "code",
   "execution_count": 99,
   "metadata": {},
   "outputs": [],
   "source": [
    "#2018 ratio between professionals who had notDepending on your degree, there is difference in salary or compensation if you work coding? How does it is indicated along the time? a computation degree and general\n",
    "ratio18 = non_compSci18.shape[0]/professionals18.shape[0]*100"
   ]
  },
  {
   "cell_type": "code",
   "execution_count": 100,
   "metadata": {},
   "outputs": [],
   "source": [
    "#All process done before to 2017 data:\n",
    "professionals17 = data17[['Professional', 'EmploymentStatus', 'MajorUndergrad']].dropna(subset=['Professional','EmploymentStatus'])\n",
    "professionals17 = professionals17[(professionals17.Professional != 'Student')\n",
    "                                 & (professionals17.Professional != 'None of these')]"
   ]
  },
  {
   "cell_type": "code",
   "execution_count": 138,
   "metadata": {},
   "outputs": [
    {
     "data": {
      "text/plain": [
       "array(['Employed full-time',\n",
       "       'Independent contractor, freelancer, or self-employed',\n",
       "       'Employed part-time', 'Retired'], dtype=object)"
      ]
     },
     "execution_count": 138,
     "metadata": {},
     "output_type": "execute_result"
    }
   ],
   "source": [
    "professionals17['EmploymentStatus'].unique()"
   ]
  },
  {
   "cell_type": "code",
   "execution_count": 101,
   "metadata": {},
   "outputs": [],
   "source": [
    "professionals17 = professionals17[(professionals17.EmploymentStatus != 'Not employed, but looking for work')\n",
    "                                 & (professionals17.EmploymentStatus != 'Not employed, and not looking for work')\n",
    "                                 & (professionals17.EmploymentStatus != 'I prefer not to say')]"
   ]
  },
  {
   "cell_type": "code",
   "execution_count": 102,
   "metadata": {},
   "outputs": [],
   "source": [
    "#Getting the number of people who works in the market coding somehow without a formal degree in computation \n",
    "ratio_non_compSci17 = professionals17[(professionals17.MajorUndergrad != 'Computer science or software engineering')\n",
    "                & (professionals17.MajorUndergrad != 'Computer engineering or electrical/electronics engineering')\n",
    "                & (professionals17.MajorUndergrad != 'Computer programming or Web development')\n",
    "                & (professionals17.MajorUndergrad != 'Information technology, networking, or system administration')]                   "
   ]
  },
  {
   "cell_type": "code",
   "execution_count": 103,
   "metadata": {},
   "outputs": [],
   "source": [
    "ratio17 = ratio_non_compSci17.shape[0]/professionals17.shape[0]*100"
   ]
  },
  {
   "cell_type": "code",
   "execution_count": 104,
   "metadata": {},
   "outputs": [
    {
     "data": {
      "text/plain": [
       "[Text(0, 0, '32.0626'),\n",
       " Text(0, 0, '32.8012'),\n",
       " Text(0, 0, '32.0942'),\n",
       " Text(0, 0, '32.445')]"
      ]
     },
     "execution_count": 104,
     "metadata": {},
     "output_type": "execute_result"
    },
    {
     "data": {
      "image/png": "[encoded data removed]",
      "text/plain": [
       "<Figure size 432x288 with 1 Axes>"
      ]
     },
     "metadata": {
      "needs_background": "light"
     },
     "output_type": "display_data"
    }
   ],
   "source": [
    "#Graphic of this rate along the time:\n",
    "x_years = np.arange(4) #the label locations\n",
    "years_values_y = [ratio17, ratio18, ratio19, ratio20]\n",
    "x_labels = ['ratio 2017', 'ratio 2018', 'ratio 2019', 'ratio 2020']\n",
    "bar_width = 0.35\n",
    "fig3, ax3 = plt.subplots()\n",
    "rects4 = ax3.bar(x_years, years_values_y, bar_width)\n",
    "ax3.set_ylabel('Percentage (%)')\n",
    "ax3.set_xticks(x_years)\n",
    "ax3.set_xticklabels(x_labels)\n",
    "ax3.set_title(\"Percentage of non CSs in the market along the years.\")\n",
    "ax3.bar_label(rects4, padding = 0)\n"
   ]
  },
  {
   "cell_type": "markdown",
   "metadata": {},
   "source": [
    "The number of non CSs between all the coders (its percentage in the market) tended to be almost constant along those four years, considering the datasets used)."
   ]
  },
  {
   "cell_type": "markdown",
   "metadata": {},
   "source": [
    "<b>QUESTION 4. Is there difference between the salary of people who have a formal degree in Comp Sci and who haven't? Let's see the percentage difference along the years 2020 and 2017:<b>\n"
   ]
  },
  {
   "cell_type": "code",
   "execution_count": 105,
   "metadata": {},
   "outputs": [],
   "source": [
    "#2020\n",
    "not_computerSci20 = data20[(data20.UndergradMajor != 'Computer science, computer engineering, or software engineering') & \n",
    "                  (data20.UndergradMajor != 'Web development or web design') & \n",
    "                  (data20.UndergradMajor != 'Information systems, information technology, or system administration') & \n",
    "                  (data20.MainBranch != 'I am a student who is learning to code') &\n",
    "                  (data20.MainBranch != 'I code primarily as a hobby') &\n",
    "                  (data20.Employment != 'Not employed, and not looking for work') &\n",
    "                  (data20.Employment != 'Not employed, and looking for work') &\n",
    "                  (data20.Employment != 'Student')]\n",
    "not_computerSci20 = not_computerSci20[['UndergradMajor', 'MainBranch','Country', 'Employment','CompFreq','CompTotal','ConvertedComp','CurrencyDesc']]\n"
   ]
  },
  {
   "cell_type": "code",
   "execution_count": 106,
   "metadata": {},
   "outputs": [
    {
     "data": {
      "text/plain": [
       "11115"
      ]
     },
     "execution_count": 106,
     "metadata": {},
     "output_type": "execute_result"
    }
   ],
   "source": [
    "compensation20 = not_computerSci20[not_computerSci20.ConvertedComp != 0].dropna(subset=['ConvertedComp']) #11203 people answered\n",
    "not_computerSci20.shape #19897 people answered totally without dropna\n",
    "not_computerSci20.iloc[1,5]\n",
    "not_computerSci20['CompTotal'].isna().sum() #8694 nan em CompTotal\n",
    "not_computerSci20['ConvertedComp'].isna().sum() #8723 nan em ConvertedComp\n",
    "compensation20.shape[0]"
   ]
  },
  {
   "cell_type": "code",
   "execution_count": 107,
   "metadata": {},
   "outputs": [],
   "source": [
    "#THE PEOPLE WHO HAVE NOT A FORMAL SCI COMP EDUCATION WORLDWIDE EARN U$111,249U ANNUALY \n",
    "compensation20_sorted = compensation20.sort_values(['ConvertedComp'],ascending=False)\n",
    "not_compSci_compens_mean20 = compensation20_sorted['ConvertedComp'].mean() "
   ]
  },
  {
   "cell_type": "code",
   "execution_count": 108,
   "metadata": {},
   "outputs": [],
   "source": [
    "computerSci20 = data20[(data20.UndergradMajor == 'Computer science, computer engineering, or software engineering') |\n",
    "                  (data20.UndergradMajor == 'Web development or web design') |\n",
    "                  (data20.UndergradMajor == 'Information systems, information technology, or system administration') & \n",
    "                  (data20.MainBranch != 'I am a student who is learning to code') &\n",
    "                  (data20.MainBranch != 'I code primarily as a hobby') &\n",
    "                  (data20.Employment != 'Not employed, and not looking for work') &\n",
    "                  (data20.Employment != 'Not employed, and looking for work') &\n",
    "                  (data20.Employment != 'Student')]\n",
    "compSci_compens20 = computerSci20[['UndergradMajor', 'MainBranch','Country', 'Employment','CompFreq','CompTotal','ConvertedComp','CurrencyDesc']]\n"
   ]
  },
  {
   "cell_type": "code",
   "execution_count": 109,
   "metadata": {},
   "outputs": [
    {
     "data": {
      "text/plain": [
       "(23623,)"
      ]
     },
     "execution_count": 109,
     "metadata": {},
     "output_type": "execute_result"
    }
   ],
   "source": [
    "compSci_compens20 = compSci_compens20[compSci_compens20.ConvertedComp != 0].dropna(subset=['ConvertedComp']) \n",
    "compSci_compens20.shape # #23499 people answered totally without dropna and without 0\n",
    "computerSci20['CompTotal'].dropna().shape #23623 (124 didin't converted to U$dollar annualy)\n"
   ]
  },
  {
   "cell_type": "code",
   "execution_count": 110,
   "metadata": {},
   "outputs": [
    {
     "data": {
      "text/plain": [
       "100838.40286820715"
      ]
     },
     "execution_count": 110,
     "metadata": {},
     "output_type": "execute_result"
    }
   ],
   "source": [
    "#THE PEOPLE WHO HAVE A FORMAL SCI COMP EDUCATION (or similar) WORLDWIDE EARN U$100,838.40 ANNUALY IN AVERAGE\n",
    "compSci_compens20_sorted = compSci_compens20.sort_values(['ConvertedComp'],ascending=False)\n",
    "compSci_compens_mean20 = compSci_compens20['ConvertedComp'].mean()\n",
    "compSci_compens_mean20"
   ]
  },
  {
   "cell_type": "code",
   "execution_count": 111,
   "metadata": {},
   "outputs": [
    {
     "data": {
      "text/plain": [
       "10.32502284724738"
      ]
     },
     "execution_count": 111,
     "metadata": {},
     "output_type": "execute_result"
    }
   ],
   "source": [
    "#DIFFERENCE PERCENTAGE 2020 BETWEEN COMPUTER SCIENTISTS AND WHO'S NOT = 10,32%\n",
    "dif_perc20 = (not_compSci_compens_mean20-compSci_compens_mean20)/compSci_compens_mean20*100\n",
    "dif_perc20\n"
   ]
  },
  {
   "cell_type": "code",
   "execution_count": 112,
   "metadata": {},
   "outputs": [],
   "source": [
    "#2019\n",
    "computerSci19 = data19[(data19.UndergradMajor == 'Computer science, computer engineering, or software engineering') |\n",
    "                  (data19.UndergradMajor == 'Web development or web design') |\n",
    "                  (data19.UndergradMajor == 'Information systems, information technology, or system administration') & \n",
    "                  (data19.MainBranch != 'I am a student who is learning to code') &\n",
    "                  (data19.MainBranch != 'I code primarily as a hobby') &\n",
    "                  (data19.Employment != 'Not employed, and not looking for work') &\n",
    "                  (data19.Employment != 'Not employed, and looking for work') &\n",
    "                  (data19.Employment != 'Student')]\n",
    "compSci_compens19 = computerSci19[['UndergradMajor', 'MainBranch','Country', 'Employment','CompFreq','CompTotal','ConvertedComp','CurrencyDesc']]\n",
    "compSci_compens19 = compSci_compens19[compSci_compens19.ConvertedComp != 0].dropna(subset=['ConvertedComp']) \n",
    "compSci_compens19.shape #37715 people answered totally without dropna and without 0\n",
    "computerSci19['CompTotal'].dropna().shape #37935 (220 didin't converted to U$ dollar annualy)\n",
    "\n",
    "#THE PEOPLE WHO HAVE A FORMAL SCI COMP EDUCATION (or similar) WORLDWIDE EARN U$124,224.99 ANNUALY IN AVERAGE\n",
    "compSci_compens19_sorted = compSci_compens19.sort_values(['ConvertedComp'],ascending=False)\n",
    "compSci_compens_mean19 = compSci_compens19['ConvertedComp'].mean()"
   ]
  },
  {
   "cell_type": "code",
   "execution_count": 113,
   "metadata": {},
   "outputs": [],
   "source": [
    "not_computerSci19 = data19[(data19.UndergradMajor != 'Computer science, computer engineering, or software engineering') &\n",
    "                  (data19.UndergradMajor != 'Web development or web design') &\n",
    "                  (data19.UndergradMajor != 'Information systems, information technology, or system administration') & \n",
    "                  (data19.MainBranch != 'I am a student who is learning to code') &\n",
    "                  (data19.MainBranch != 'I code primarily as a hobby') &\n",
    "                  (data19.Employment != 'Not employed, and not looking for work') &\n",
    "                  (data19.Employment != 'Not employed, and looking for work') &\n",
    "                  (data19.Employment != 'Student')]\n",
    "not_computerSci19 = not_computerSci19[['UndergradMajor', 'MainBranch','Country', 'Employment','CompFreq','CompTotal','ConvertedComp','CurrencyDesc']]\n",
    "compensation19 = not_computerSci19[not_computerSci19.ConvertedComp != 0].dropna(subset=['ConvertedComp']) #17,909 people answered\n",
    "not_computerSci19.shape #24318 people answered totally without dropna, counting with Nan and 0's\n",
    "not_computerSci19['CompTotal'].isna().sum() #6308 nan em CompTotal\n",
    "not_computerSci19['ConvertedComp'].isna().sum() #6341 nan em ConvertedComp\n",
    "\n",
    "#THE PEOPLE WHO HAVE NOT A FORMAL SCI COMP EDUCATION WORLDWIDE EARN U$134,600.33 ANNUALY \n",
    "compensation19_sorted = compensation19.sort_values(['ConvertedComp'],ascending=False)\n",
    "not_compSci_compens_mean19 = compensation19_sorted['ConvertedComp'].mean()"
   ]
  },
  {
   "cell_type": "code",
   "execution_count": 114,
   "metadata": {},
   "outputs": [
    {
     "data": {
      "text/plain": [
       "8.352059995452716"
      ]
     },
     "execution_count": 114,
     "metadata": {},
     "output_type": "execute_result"
    }
   ],
   "source": [
    "#DIFFERENCE PERCENTAGE 2019 BETWEEN COMPUTER SCIENTISTS AND WHO'S NOT = 8,32%\n",
    "dif_perc19 = (not_compSci_compens_mean19-compSci_compens_mean19)/compSci_compens_mean19*100\n",
    "dif_perc19"
   ]
  },
  {
   "cell_type": "code",
   "execution_count": 115,
   "metadata": {},
   "outputs": [],
   "source": [
    "#2018\n",
    "not_compSci_salary18 = data18.iloc[ratio_non_compSci18.index.values]\n",
    "not_compSci_compens18 = not_compSci_salary18[['UndergradMajor', 'Employment','DevType','ConvertedSalary']]\n",
    "not_compSci_compens18 = not_compSci_compens18.sort_values(['ConvertedSalary'],ascending=False)"
   ]
  },
  {
   "cell_type": "code",
   "execution_count": 116,
   "metadata": {},
   "outputs": [
    {
     "data": {
      "text/plain": [
       "103226.43537460595"
      ]
     },
     "execution_count": 116,
     "metadata": {},
     "output_type": "execute_result"
    }
   ],
   "source": [
    "not_compSci_compens18 = not_compSci_compens18[not_compSci_compens18.ConvertedSalary != 0].dropna(subset=['ConvertedSalary']) \n",
    "not_compSci_salary18.shape #26,117 people answered totally without dropna, counting with Nan and 0's\n",
    "not_compSci_compens18.shape # 14,909 answered with real values their converted annualy salaries\n",
    "\n",
    "#THE PEOPLE WHO DON'T HAVE A FORMAL SCI COMP EDUCATION (or similar) WORLDWIDE EARN U$103,226.44 ANNUALY IN AVERAGE IN 2018\n",
    "not_compSci_salary_mean18 = not_compSci_compens18['ConvertedSalary'].mean()\n",
    "not_compSci_salary_mean18"
   ]
  },
  {
   "cell_type": "code",
   "execution_count": 117,
   "metadata": {},
   "outputs": [],
   "source": [
    "compSci18 = professionals18[(professionals18.UndergradMajor == 'Computer science, computer engineering, or software engineering')\n",
    "                | (professionals18.UndergradMajor == 'Information systems, information technology, or system administration')\n",
    "                | (professionals18.UndergradMajor == 'Web development or web design')]"
   ]
  },
  {
   "cell_type": "code",
   "execution_count": 118,
   "metadata": {},
   "outputs": [],
   "source": [
    "compSci_salary18 = data18.iloc[compSci18.index.values]\n",
    "compSci_compens18 = compSci_salary18[['UndergradMajor','Employment','DevType','ConvertedSalary']]\n",
    "compSci_compens18 = compSci_compens18.sort_values(['ConvertedSalary'],ascending=False)"
   ]
  },
  {
   "cell_type": "code",
   "execution_count": 119,
   "metadata": {},
   "outputs": [
    {
     "data": {
      "text/plain": [
       "96238.02996618341"
      ]
     },
     "execution_count": 119,
     "metadata": {},
     "output_type": "execute_result"
    }
   ],
   "source": [
    "compSci_compens18 = compSci_compens18[compSci_compens18.ConvertedSalary != 0].dropna(subset=['ConvertedSalary'])\n",
    "compSci_salary18.shape # 53,505 people answered totally without dropna, counting with Nan and 0's\n",
    "compSci_compens18.shape # 29,867 answered with real values their converted annualy salaries\n",
    "\n",
    "#THE PEOPLE WHO HAVE A FORMAL SCI COMP EDUCATION (or similar) WORLDWIDE EARN U$96,238,03 ANNUALY IN AVERAGE\n",
    "compSci_salary_mean18 = compSci_compens18['ConvertedSalary'].mean()\n",
    "compSci_salary_mean18"
   ]
  },
  {
   "cell_type": "code",
   "execution_count": 120,
   "metadata": {},
   "outputs": [
    {
     "data": {
      "text/plain": [
       "7.261584023361819"
      ]
     },
     "execution_count": 120,
     "metadata": {},
     "output_type": "execute_result"
    }
   ],
   "source": [
    "#DIFFERENCE PERCENTAGE 2018 BETWEEN COMPUTER SCIENTISTS AND WHO'S NOT = 7.26%\n",
    "dif_perc18 = (not_compSci_salary_mean18-compSci_salary_mean18)/compSci_salary_mean18*100\n",
    "dif_perc18"
   ]
  },
  {
   "cell_type": "code",
   "execution_count": 121,
   "metadata": {},
   "outputs": [],
   "source": [
    "#2017\n",
    "not_compSci_salary17 = data17.iloc[ratio_non_compSci17.index.values]\n",
    "not_compSci_salary_filtered_17 = not_compSci_salary17[['MajorUndergrad','EmploymentStatus','Salary','Currency']].dropna(subset=['Salary','Currency'])\n",
    "not_compSci_salary_filtered_17 = not_compSci_salary_filtered_17[(not_compSci_salary_filtered_17.Currency == 'U.S. dollars ($)')\n",
    "                                             & (not_compSci_salary_filtered_17.Salary != 0)]\n",
    "                                              "
   ]
  },
  {
   "cell_type": "code",
   "execution_count": 122,
   "metadata": {},
   "outputs": [
    {
     "data": {
      "text/plain": [
       "(1439, 4)"
      ]
     },
     "execution_count": 122,
     "metadata": {},
     "output_type": "execute_result"
    }
   ],
   "source": [
    "not_compSci_salary17.shape #13,129 people answered totally without dropna, counting with Nan and 0's\n",
    "not_compSci_salary_filtered_17.shape # 1,439 answered with real values their converted annualy salaries and HAD US DOLLAR CURRENCY\n"
   ]
  },
  {
   "cell_type": "code",
   "execution_count": 123,
   "metadata": {},
   "outputs": [
    {
     "data": {
      "text/plain": [
       "90597.17904454713"
      ]
     },
     "execution_count": 123,
     "metadata": {},
     "output_type": "execute_result"
    }
   ],
   "source": [
    "#THE PEOPLE WHO DON'T HAVE A FORMAL SCI COMP EDUCATION (or similar) WORLDWIDE EARN U$90,597.18 ANNUALY IN AVERAGE IN 2017\n",
    "not_compSci_salary_mean17 = not_compSci_salary_filtered_17['Salary'].mean()\n",
    "not_compSci_salary_mean17"
   ]
  },
  {
   "cell_type": "code",
   "execution_count": 124,
   "metadata": {},
   "outputs": [],
   "source": [
    "compSci_salary17 = professionals17[(professionals17.MajorUndergrad == 'Computer science or software engineering')\n",
    "                | (professionals17.MajorUndergrad == 'Computer engineering or electrical/electronics engineering')\n",
    "                | (professionals17.MajorUndergrad == 'Computer programming or Web development')\n",
    "                | (professionals17.MajorUndergrad == 'Information technology, networking, or system administration')]  "
   ]
  },
  {
   "cell_type": "code",
   "execution_count": 125,
   "metadata": {},
   "outputs": [],
   "source": [
    "compSci_salary17 = data17.iloc[compSci_salary17.index.values]\n",
    "compSci_salary_filtered_17 = compSci_salary17[['MajorUndergrad','EmploymentStatus','Salary','Currency']].dropna(subset=['Salary','Currency'])\n",
    "compSci_salary_filtered_17 = compSci_salary_filtered_17[(compSci_salary_filtered_17.Currency == 'U.S. dollars ($)')\n",
    "                                             & (compSci_salary_filtered_17.Salary != 0)]"
   ]
  },
  {
   "cell_type": "code",
   "execution_count": 126,
   "metadata": {},
   "outputs": [
    {
     "data": {
      "text/plain": [
       "(2849, 4)"
      ]
     },
     "execution_count": 126,
     "metadata": {},
     "output_type": "execute_result"
    }
   ],
   "source": [
    "compSci_salary17.shape #27,819 people answered totally without dropna, counting with Nan and 0's\n",
    "compSci_salary_filtered_17.shape # 2,849 answered with real values their converted annualy salaries and HAD US DOLLAR CURRENCY\n"
   ]
  },
  {
   "cell_type": "code",
   "execution_count": 127,
   "metadata": {},
   "outputs": [
    {
     "data": {
      "text/plain": [
       "87346.47654340298"
      ]
     },
     "execution_count": 127,
     "metadata": {},
     "output_type": "execute_result"
    }
   ],
   "source": [
    "#THE PEOPLE WHO DON'T HAVE A FORMAL SCI COMP EDUCATION (or similar) WORLDWIDE EARN U$87,346.46 ANNUALY IN AVERAGE IN 2017\n",
    "compSci_salary_mean17 = compSci_salary_filtered_17['Salary'].mean()\n",
    "compSci_salary_mean17"
   ]
  },
  {
   "cell_type": "code",
   "execution_count": 128,
   "metadata": {},
   "outputs": [
    {
     "data": {
      "text/plain": [
       "3.7216183523199704"
      ]
     },
     "execution_count": 128,
     "metadata": {},
     "output_type": "execute_result"
    }
   ],
   "source": [
    "#DIFFERENCE PERCENTAGE 2018 BETWEEN COMPUTER SCIENTISTS AND WHO'S NOT = 3,72%\n",
    "dif_perc17 = (not_compSci_salary_mean17-compSci_salary_mean17)/compSci_salary_mean17*100\n",
    "dif_perc17"
   ]
  },
  {
   "cell_type": "code",
   "execution_count": 129,
   "metadata": {},
   "outputs": [
    {
     "data": {
      "text/plain": [
       "[Text(0, 0, '3.72162'),\n",
       " Text(0, 0, '7.26158'),\n",
       " Text(0, 0, '8.35206'),\n",
       " Text(0, 0, '10.325')]"
      ]
     },
     "execution_count": 129,
     "metadata": {},
     "output_type": "execute_result"
    },
    {
     "data": {
      "image/png": "[encoded data removed]",
      "text/plain": [
       "<Figure size 432x288 with 1 Axes>"
      ]
     },
     "metadata": {
      "needs_background": "light"
     },
     "output_type": "display_data"
    }
   ],
   "source": [
    "#Plotting the differences of salary or compencies along the years\n",
    "x_years  #the label locations\n",
    "diff_perc_y = [dif_perc17, dif_perc18, dif_perc19, dif_perc20]\n",
    "x_labels_diff = [ '2017', '2018', '2019', '2020']\n",
    "bar_width \n",
    "fig4, ax4 = plt.subplots()\n",
    "rects5 = ax4.bar(x_years, diff_perc_y, bar_width)\n",
    "ax4.set_ylabel('Percentage of difference(%) (nCS-CS)/CS')\n",
    "ax4.set_xticks(x_years)\n",
    "ax4.set_xticklabels(x_labels_diff)\n",
    "ax4.set_title(\"Percentage of difference in salary average between non CSs and CSs coders\")\n",
    "ax4.bar_label(rects5, padding = 0)\n"
   ]
  },
  {
   "cell_type": "markdown",
   "metadata": {},
   "source": [
    "This last plot shows something interesting, the percentual difference in the average salary between CSs and non CSs tended to grow along those four years, while the percentage of non CSs in the market tended to be almost constant in 32%. "
   ]
  },
  {
   "cell_type": "code",
   "execution_count": 130,
   "metadata": {},
   "outputs": [
    {
     "data": {
      "text/plain": [
       "Bachelor’s degree (B.A., B.S., B.Eng., etc.)                                          4159\n",
       "Master’s degree (M.A., M.S., M.Eng., MBA, etc.)                                       2805\n",
       "Secondary school (e.g. American high school, German Realschule or Gymnasium, etc.)    1466\n",
       "Some college/university study without earning a degree                                1202\n",
       "Other doctoral degree (Ph.D., Ed.D., etc.)                                             722\n",
       "Associate degree (A.A., A.S., etc.)                                                    230\n",
       "I never completed any formal education                                                 154\n",
       "Primary/elementary school                                                              153\n",
       "Professional degree (JD, MD, etc.)                                                     142\n",
       "Name: EdLevel, dtype: int64"
      ]
     },
     "execution_count": 130,
     "metadata": {},
     "output_type": "execute_result"
    }
   ],
   "source": [
    "data20_edLevel = data20.iloc[not_computerSci20.index.values]\n",
    "data20_edLevel = data20_edLevel[['UndergradMajor','DevType', 'EdLevel', 'ConvertedComp']].dropna(subset=['ConvertedComp'])\n",
    "data20_edLevel['EdLevel'].value_counts()"
   ]
  },
  {
   "cell_type": "code",
   "execution_count": 131,
   "metadata": {},
   "outputs": [
    {
     "data": {
      "text/plain": [
       "Another engineering discipline (such as civil, electrical, mechanical, etc.)      2931\n",
       "A natural science (such as biology, chemistry, physics, etc.)                     1485\n",
       "Mathematics or statistics                                                         1199\n",
       "A business discipline (such as accounting, finance, marketing, etc.)               825\n",
       "A humanities discipline (such as literature, history, philosophy, etc.)            719\n",
       "A social science (such as anthropology, psychology, political science, etc.)       620\n",
       "Fine arts or performing arts (such as graphic design, music, studio art, etc.)     508\n",
       "I never declared a major                                                           232\n",
       "A health science (such as nursing, pharmacy, radiology, etc.)                      127\n",
       "Name: UndergradMajor, dtype: int64"
      ]
     },
     "execution_count": 131,
     "metadata": {},
     "output_type": "execute_result"
    }
   ],
   "source": [
    "data20_edLevel['UndergradMajor'].value_counts()"
   ]
  },
  {
   "cell_type": "code",
   "execution_count": 132,
   "metadata": {},
   "outputs": [],
   "source": [
    "def compensation_mean(data_serie_filter, data, value):\n",
    "    '''\n",
    "    Function to calculate the average compensation that each group of people from some Undergrad or other study level earns\n",
    "    Input:\n",
    "     data_serie_filter = a pandas Series ex: data.column_name\n",
    "     data = pandas dataframe name\n",
    "     value = string containing the value, Undergraduate or Education leve, you want to know the compensation mean\n",
    "    Returns:\n",
    "     num_people = int with the number of people\n",
    "     compensation_mean = float with the compensation mean for each group\n",
    "    '''\n",
    "    value_dataframe = data[data_serie_filter == value]\n",
    "    num_people = value_dataframe.shape[0]\n",
    "    compensation_mean = value_dataframe['ConvertedComp'].mean()\n",
    "    return num_people, compensation_mean\n",
    "\n",
    "math_e_stats_shape20, math_e_stats20 = compensation_mean(data20_edLevel.UndergradMajor,data20_edLevel,'Mathematics or statistics')\n",
    "#1199 people who did math and stats and work coding\n",
    "#U$130,102.59 annualy\n",
    "\n",
    "eng_shape20, engineering20 = compensation_mean(data20_edLevel.UndergradMajor,data20_edLevel,'Another engineering discipline (such as civil, electrical, mechanical, etc.)')\n",
    "#2931 work coding \n",
    "#U$92776.57 annualy\n",
    "\n",
    "nat_sci_shape20, nat_sci_comp_mean20 = compensation_mean(data20_edLevel.UndergradMajor,data20_edLevel,'A natural science (such as biology, chemistry, physics, etc.)')\n",
    "#1485 work coding \n",
    "#U$113,949.78 \n",
    "\n",
    "arts_shape20, arts_comp_mean20 = compensation_mean(data20_edLevel.UndergradMajor,data20_edLevel,'Fine arts or performing arts (such as graphic design, music, studio art, etc.)')\n",
    "#508 work coding\n",
    "#U$159630.37\n",
    "\n",
    "no_major_shape20, no_major_comp_mean20 = compensation_mean(data20_edLevel.UndergradMajor,data20_edLevel, 'I never declared a major')\n",
    "#232\n",
    "#U$134,906.59\n",
    "\n",
    "human_shape20, human_comp_mean20 = compensation_mean(data20_edLevel.UndergradMajor,data20_edLevel,'A humanities discipline (such as literature, history, philosophy, etc.)')\n",
    "#719\n",
    "#145240.65\n",
    "\n",
    "health_shape20, health_comp_mean20 = compensation_mean(data20_edLevel.UndergradMajor,data20_edLevel,'A health science (such as nursing, pharmacy, radiology, etc.)')\n",
    "#127\n",
    "#U$70,738.69\n",
    "\n",
    "social_shape20, social_comp_mean20 = compensation_mean(data20_edLevel.UndergradMajor,data20_edLevel,'A social science (such as anthropology, psychology, political science, etc.)')\n",
    "#620\n",
    "#U$130,689.14\n",
    "\n",
    "business_shape20, business_comp_mean20 = compensation_mean(data20_edLevel.UndergradMajor,data20_edLevel,'A business discipline (such as accounting, finance, marketing, etc.)')\n",
    "#825\n",
    "#U$109,906.89"
   ]
  },
  {
   "cell_type": "code",
   "execution_count": 134,
   "metadata": {},
   "outputs": [
    {
     "data": {
      "image/png": "[encoded data removed]",
      "text/plain": [
       "<Figure size 432x288 with 1 Axes>"
      ]
     },
     "metadata": {
      "needs_background": "light"
     },
     "output_type": "display_data"
    }
   ],
   "source": [
    "#Plotting the edLevel salary charts in one \n",
    "data_index = ['Math and stats','Engineering', 'Natural Science', 'Business','Social science', 'Humanities', 'Arts', 'Health', 'Never declared major']\n",
    "\n",
    "\n",
    "data = [math_e_stats20, engineering20,nat_sci_comp_mean20,business_comp_mean20,social_comp_mean20,human_comp_mean20,arts_comp_mean20, health_comp_mean20, no_major_comp_mean20]\n",
    "X = np.arange(len(data))\n",
    "bar1 = plt.bar(X, data, width = 0.25, color = 'b')\n",
    "plt.xticks(X,data_index,rotation=90)\n",
    "\n",
    "plt.xlabel(\"Education Level\")\n",
    "plt.ylabel('Compensation mean (U$)')\n",
    "plt.title(\"Between professional coders, what is the compensation mean of non Comp. Scientists by their major undergrad?\")\n",
    "plt.bar_label(bar1,padding=0)\n",
    "plt.hlines(not_compSci_compens_mean20,-0.5,9,linestyles='--',colors='#4472C4',label='average')\n",
    "\n",
    "\n",
    "plt.show()"
   ]
  },
  {
   "cell_type": "code",
   "execution_count": 135,
   "metadata": {},
   "outputs": [],
   "source": [
    "#Getting the compensation per each education level from data 2020 \n",
    "bach_shape20, bach_mean20 = compensation_mean(data20_edLevel.EdLevel,data20_edLevel,'Bachelor’s degree (B.A., B.S., B.Eng., etc.)')\n",
    "master_shape20, master_mean20 = compensation_mean(data20_edLevel.EdLevel,data20_edLevel,'Master’s degree (M.A., M.S., M.Eng., MBA, etc.)')\n",
    "secondary_shape20, secondary_mean20 = compensation_mean(data20_edLevel.EdLevel,data20_edLevel,'Secondary school (e.g. American high school, German Realschule or Gymnasium, etc.)')\n",
    "nondegree_shape20, nondegree_mean20 = compensation_mean(data20_edLevel.EdLevel,data20_edLevel,'Some college/university study without earning a degree')\n",
    "doc_shape20, doc_mean20 = compensation_mean(data20_edLevel.EdLevel,data20_edLevel,'Other doctoral degree (Ph.D., Ed.D., etc.)')\n",
    "assoc_shape20, assoc_mean20 = compensation_mean(data20_edLevel.EdLevel,data20_edLevel,'Associate degree (A.A., A.S., etc.)')\n",
    "primary_shape20, primary_mean20 = compensation_mean(data20_edLevel.EdLevel,data20_edLevel,'Primary/elementary school')\n",
    "nonformal_shape20, nonformal_mean20 = compensation_mean(data20_edLevel.EdLevel,data20_edLevel,'I never completed any formal education')\n",
    "profess_shape20, profess_mean20 = compensation_mean(data20_edLevel.EdLevel,data20_edLevel,'Professional degree (JD, MD, etc.)')\n"
   ]
  },
  {
   "cell_type": "code",
   "execution_count": 136,
   "metadata": {},
   "outputs": [
    {
     "data": {
      "image/png": "[encoded data removed]",
      "text/plain": [
       "<Figure size 432x288 with 1 Axes>"
      ]
     },
     "metadata": {
      "needs_background": "light"
     },
     "output_type": "display_data"
    }
   ],
   "source": [
    "#Plotting the edLevel salary charts in one \n",
    "data_index = ['Primary','Secondary', 'College without degree', 'Bachelor','Masters', 'Doctoral degree', 'Associate degree', 'Any formal education']\n",
    "\n",
    "\n",
    "data = [primary_mean20,secondary_mean20,nondegree_mean20,bach_mean20,master_mean20,doc_mean20,assoc_mean20, nonformal_mean20]\n",
    "X = np.arange(len(data))\n",
    "bar1 = plt.bar(X, data, width = 0.25, color = 'b')\n",
    "plt.xticks(X,data_index,rotation=90)\n",
    "\n",
    "plt.xlabel(\"Education Level\")\n",
    "plt.ylabel('Compensation mean (U$)')\n",
    "plt.title(\"Between professional coders, what is the compensation mean of non Comp. Scientists by formal degree?\")\n",
    "plt.bar_label(bar1,padding=0)\n",
    "plt.hlines(not_compSci_compens_mean20,-0.5,7.5,linestyles='--',colors='#4472C4',label='average')\n",
    "\n",
    "\n",
    "plt.show()"
   ]
  },
  {
   "cell_type": "code",
   "execution_count": 137,
   "metadata": {},
   "outputs": [
    {
     "data": {
      "text/plain": [
       "Bachelor’s degree (B.A., B.S., B.Eng., etc.)                                          4159\n",
       "Master’s degree (M.A., M.S., M.Eng., MBA, etc.)                                       2805\n",
       "Secondary school (e.g. American high school, German Realschule or Gymnasium, etc.)    1466\n",
       "Some college/university study without earning a degree                                1202\n",
       "Other doctoral degree (Ph.D., Ed.D., etc.)                                             722\n",
       "Associate degree (A.A., A.S., etc.)                                                    230\n",
       "I never completed any formal education                                                 154\n",
       "Primary/elementary school                                                              153\n",
       "Professional degree (JD, MD, etc.)                                                     142\n",
       "Name: EdLevel, dtype: int64"
      ]
     },
     "execution_count": 137,
     "metadata": {},
     "output_type": "execute_result"
    }
   ],
   "source": [
    "data20_edLevel['EdLevel'].value_counts()"
   ]
  },
  {
   "cell_type": "code",
   "execution_count": null,
   "metadata": {},
   "outputs": [],
   "source": []
  }
 ],
 "metadata": {
  "kernelspec": {
   "display_name": "Python 3",
   "language": "python",
   "name": "python3"
  },
  "language_info": {
   "codemirror_mode": {
    "name": "ipython",
    "version": 3
   },
   "file_extension": ".py",
   "mimetype": "text/x-python",
   "name": "python",
   "nbconvert_exporter": "python",
   "pygments_lexer": "ipython3",
   "version": "3.8.5"
  }
 },
 "nbformat": 4,
 "nbformat_minor": 4
}
