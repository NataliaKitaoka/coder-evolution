{
 "cells": [
  {
   "cell_type": "code",
   "execution_count": 1,
   "metadata": {},
   "outputs": [],
   "source": [
    "#importing libraries\n",
    "import numpy as np\n",
    "import pandas as pd\n",
    "import matplotlib.pyplot as plt\n",
    "import matplotlib as mpl"
   ]
  },
  {
   "cell_type": "code",
   "execution_count": 2,
   "metadata": {},
   "outputs": [],
   "source": [
    "data20 = pd.read_csv('/home/natalia/Documents/coder-evolution/data/data/csv/2020 survey_results_public.csv')\n",
    "schema20 = pd.read_csv('/home/natalia/Documents/coder-evolution/data/data/csv/2020 survey_results_schema.csv')\n",
    "data19 = pd.read_csv('/home/natalia/Documents/coder-evolution/data/data/csv/2019 survey_results_public.csv')\n",
    "schema19 = pd.read_csv('/home/natalia/Documents/coder-evolution/data/data/csv/2019 survey_results_schema.csv')\n",
    "data18 = pd.read_csv('/home/natalia/Documents/coder-evolution/data/data/csv/2018 survey_results_public.csv', low_memory = False)\n",
    "schema18 =pd.read_csv('/home/natalia/Documents/coder-evolution/data/data/csv/2018 survey_results_schema.csv')\n",
    "data17 = pd.read_csv('/home/natalia/Documents/coder-evolution/data/data/csv/2017 survey_results_public.csv')\n",
    "schema17 = pd.read_csv('/home/natalia/Documents/coder-evolution/data/data/csv/2017 survey_results_schema.csv')\n"
   ]
  },
  {
   "cell_type": "code",
   "execution_count": 3,
   "metadata": {},
   "outputs": [],
   "source": [
    "#Searching for the necessary columns to answer my questions\n",
    "pd.set_option('display.max_columns', None)\n",
    "pd.set_option('max_rows',100)\n",
    "pd.options.display.max_colwidth = 500 #increasing the number of characters to be read in a row\n",
    "\n"
   ]
  },
  {
   "cell_type": "code",
   "execution_count": 4,
   "metadata": {},
   "outputs": [],
   "source": [
    "#How early are people starting to learn how to code along the time?\n",
    "# startAge2020serie = data20['Age1stCode'] \n",
    "# startAge2019serie = data19['Age1stCode'] \n",
    "# startAge2020values = startAge2020serie.value_counts()\n",
    "# (startAge2020values/data20.shape[0]).plot(kind=\"bar\");\n",
    "#plt.title(\"When did the people star start to code?\");\n",
    "#newData2020Age = data20['Age1stCode'].dropna()\n",
    "#I realized that this is not a good question"
   ]
  },
  {
   "cell_type": "code",
   "execution_count": 5,
   "metadata": {},
   "outputs": [
    {
     "data": {
      "text/plain": [
       "'How important is a formal education, such as a university degree in computer science, to your career?'"
      ]
     },
     "execution_count": 5,
     "metadata": {},
     "output_type": "execute_result"
    }
   ],
   "source": [
    "# Is it necessary to have a formal degree to get a developer job (like computer science university degree)\n",
    "schema20.iloc[29,1]"
   ]
  },
  {
   "cell_type": "code",
   "execution_count": 6,
   "metadata": {},
   "outputs": [
    {
     "data": {
      "text/plain": [
       "(48140, 4)"
      ]
     },
     "execution_count": 6,
     "metadata": {},
     "output_type": "execute_result"
    }
   ],
   "source": [
    "# Is it necessary to have a formal degree to get a developer job (like computer science university degree)\n",
    "#How many of them work like a devoloper or code sometimes AND think it is important to have a formal degree such computer science degree?\n",
    "#And among them, how many did undergraduate in computer science?\n",
    "\n",
    "formal_degree = data20[['MainBranch','UndergradMajor','Employment','NEWEdImpt']].dropna(subset=['MainBranch','Employment','NEWEdImpt'])\n",
    "#'I am a developer by profession'\n",
    "#'I used to be a developer by profession, but no longer am'\n",
    "#'I am not primarily a developer, but I write code sometimes as part of my work'\n",
    "formal_degree.shape\n"
   ]
  },
  {
   "cell_type": "code",
   "execution_count": 7,
   "metadata": {},
   "outputs": [
    {
     "data": {
      "text/plain": [
       "array(['Independent contractor, freelancer, or self-employed',\n",
       "       'Employed full-time', nan, 'Student',\n",
       "       'Not employed, but looking for work', 'Employed part-time',\n",
       "       'Retired', 'Not employed, and not looking for work'], dtype=object)"
      ]
     },
     "execution_count": 7,
     "metadata": {},
     "output_type": "execute_result"
    }
   ],
   "source": [
    "data20['Employment'].unique()"
   ]
  },
  {
   "cell_type": "code",
   "execution_count": 8,
   "metadata": {},
   "outputs": [
    {
     "data": {
      "text/plain": [
       "(46710, 4)"
      ]
     },
     "execution_count": 8,
     "metadata": {},
     "output_type": "execute_result"
    }
   ],
   "source": [
    "#Dropping rows in wich the value of column 'MainBranch' is \"hobby\" \n",
    "formal_degree_and_professional = formal_degree[(formal_degree.MainBranch != 'I am a student who is learning to code') &\n",
    "                     (formal_degree.MainBranch != 'I code primarily as a hobby')]\n",
    "#Dropping rows in wich the value of column 'Employment' is \"Not emploeyd\" and 'Student'\n",
    "formal_degree_and_professional = formal_degree[(formal_degree.Employment != 'Student') &\n",
    "                     (formal_degree.Employment != 'Not employed, and not looking for work') & (formal_degree.Employment != 'Not employed, but looking for work')]\n",
    "formal_degree_and_professional.shape\n"
   ]
  },
  {
   "cell_type": "markdown",
   "metadata": {},
   "source": []
  },
  {
   "cell_type": "code",
   "execution_count": 9,
   "metadata": {},
   "outputs": [],
   "source": [
    "#professional or someone who codes X number of each category of importance\n",
    "y = formal_degree_and_professional['NEWEdImpt'].value_counts()/formal_degree.shape[0]*100\n",
    "\n"
   ]
  },
  {
   "cell_type": "code",
   "execution_count": 10,
   "metadata": {},
   "outputs": [
    {
     "data": {
      "text/html": [
       "<div>\n",
       "<style scoped>\n",
       "    .dataframe tbody tr th:only-of-type {\n",
       "        vertical-align: middle;\n",
       "    }\n",
       "\n",
       "    .dataframe tbody tr th {\n",
       "        vertical-align: top;\n",
       "    }\n",
       "\n",
       "    .dataframe thead th {\n",
       "        text-align: right;\n",
       "    }\n",
       "</style>\n",
       "<table border=\"1\" class=\"dataframe\">\n",
       "  <thead>\n",
       "    <tr style=\"text-align: right;\">\n",
       "      <th></th>\n",
       "      <th>MainBranch</th>\n",
       "      <th>UndergradMajor</th>\n",
       "      <th>Employment</th>\n",
       "      <th>NEWEdImpt</th>\n",
       "    </tr>\n",
       "  </thead>\n",
       "  <tbody>\n",
       "    <tr>\n",
       "      <th>0</th>\n",
       "      <td>I am a developer by profession</td>\n",
       "      <td>Computer science, computer engineering, or software engineering</td>\n",
       "      <td>Independent contractor, freelancer, or self-employed</td>\n",
       "      <td>Fairly important</td>\n",
       "    </tr>\n",
       "    <tr>\n",
       "      <th>1</th>\n",
       "      <td>I am a developer by profession</td>\n",
       "      <td>Computer science, computer engineering, or software engineering</td>\n",
       "      <td>Employed full-time</td>\n",
       "      <td>Fairly important</td>\n",
       "    </tr>\n",
       "    <tr>\n",
       "      <th>4</th>\n",
       "      <td>I used to be a developer by profession, but no longer am</td>\n",
       "      <td>Computer science, computer engineering, or software engineering</td>\n",
       "      <td>Employed full-time</td>\n",
       "      <td>Very important</td>\n",
       "    </tr>\n",
       "    <tr>\n",
       "      <th>5</th>\n",
       "      <td>I am a developer by profession</td>\n",
       "      <td>NaN</td>\n",
       "      <td>Employed full-time</td>\n",
       "      <td>Fairly important</td>\n",
       "    </tr>\n",
       "    <tr>\n",
       "      <th>6</th>\n",
       "      <td>I am a developer by profession</td>\n",
       "      <td>Computer science, computer engineering, or software engineering</td>\n",
       "      <td>Employed full-time</td>\n",
       "      <td>Very important</td>\n",
       "    </tr>\n",
       "    <tr>\n",
       "      <th>...</th>\n",
       "      <td>...</td>\n",
       "      <td>...</td>\n",
       "      <td>...</td>\n",
       "      <td>...</td>\n",
       "    </tr>\n",
       "    <tr>\n",
       "      <th>64152</th>\n",
       "      <td>I am a developer by profession</td>\n",
       "      <td>Computer science, computer engineering, or software engineering</td>\n",
       "      <td>Employed full-time</td>\n",
       "      <td>Not at all important/not necessary</td>\n",
       "    </tr>\n",
       "    <tr>\n",
       "      <th>64153</th>\n",
       "      <td>I am a developer by profession</td>\n",
       "      <td>Information systems, information technology, or system administration</td>\n",
       "      <td>Employed full-time</td>\n",
       "      <td>Very important</td>\n",
       "    </tr>\n",
       "    <tr>\n",
       "      <th>64154</th>\n",
       "      <td>I am a developer by profession</td>\n",
       "      <td>Web development or web design</td>\n",
       "      <td>Employed full-time</td>\n",
       "      <td>Fairly important</td>\n",
       "    </tr>\n",
       "    <tr>\n",
       "      <th>64156</th>\n",
       "      <td>I used to be a developer by profession, but no longer am</td>\n",
       "      <td>I never declared a major</td>\n",
       "      <td>Employed full-time</td>\n",
       "      <td>Very important</td>\n",
       "    </tr>\n",
       "    <tr>\n",
       "      <th>64158</th>\n",
       "      <td>I am a developer by profession</td>\n",
       "      <td>Information systems, information technology, or system administration</td>\n",
       "      <td>Employed full-time</td>\n",
       "      <td>Very important</td>\n",
       "    </tr>\n",
       "  </tbody>\n",
       "</table>\n",
       "<p>48140 rows × 4 columns</p>\n",
       "</div>"
      ],
      "text/plain": [
       "                                                     MainBranch  \\\n",
       "0                                I am a developer by profession   \n",
       "1                                I am a developer by profession   \n",
       "4      I used to be a developer by profession, but no longer am   \n",
       "5                                I am a developer by profession   \n",
       "6                                I am a developer by profession   \n",
       "...                                                         ...   \n",
       "64152                            I am a developer by profession   \n",
       "64153                            I am a developer by profession   \n",
       "64154                            I am a developer by profession   \n",
       "64156  I used to be a developer by profession, but no longer am   \n",
       "64158                            I am a developer by profession   \n",
       "\n",
       "                                                              UndergradMajor  \\\n",
       "0            Computer science, computer engineering, or software engineering   \n",
       "1            Computer science, computer engineering, or software engineering   \n",
       "4            Computer science, computer engineering, or software engineering   \n",
       "5                                                                        NaN   \n",
       "6            Computer science, computer engineering, or software engineering   \n",
       "...                                                                      ...   \n",
       "64152        Computer science, computer engineering, or software engineering   \n",
       "64153  Information systems, information technology, or system administration   \n",
       "64154                                          Web development or web design   \n",
       "64156                                               I never declared a major   \n",
       "64158  Information systems, information technology, or system administration   \n",
       "\n",
       "                                                 Employment  \\\n",
       "0      Independent contractor, freelancer, or self-employed   \n",
       "1                                        Employed full-time   \n",
       "4                                        Employed full-time   \n",
       "5                                        Employed full-time   \n",
       "6                                        Employed full-time   \n",
       "...                                                     ...   \n",
       "64152                                    Employed full-time   \n",
       "64153                                    Employed full-time   \n",
       "64154                                    Employed full-time   \n",
       "64156                                    Employed full-time   \n",
       "64158                                    Employed full-time   \n",
       "\n",
       "                                NEWEdImpt  \n",
       "0                        Fairly important  \n",
       "1                        Fairly important  \n",
       "4                          Very important  \n",
       "5                        Fairly important  \n",
       "6                          Very important  \n",
       "...                                   ...  \n",
       "64152  Not at all important/not necessary  \n",
       "64153                      Very important  \n",
       "64154                    Fairly important  \n",
       "64156                      Very important  \n",
       "64158                      Very important  \n",
       "\n",
       "[48140 rows x 4 columns]"
      ]
     },
     "execution_count": 10,
     "metadata": {},
     "output_type": "execute_result"
    }
   ],
   "source": [
    "formal_degree"
   ]
  },
  {
   "cell_type": "code",
   "execution_count": 11,
   "metadata": {},
   "outputs": [
    {
     "data": {
      "image/png": "[encoded data removed]",
      "text/plain": [
       "<Figure size 432x288 with 1 Axes>"
      ]
     },
     "metadata": {
      "needs_background": "light"
     },
     "output_type": "display_data"
    }
   ],
   "source": [
    "#professional or someone who codes X number of each category of importance\n",
    "\n",
    "y = formal_degree_and_professional['NEWEdImpt'].value_counts()/formal_degree_and_professional.shape[0]*100\n",
    "values_y = y.values.tolist()\n",
    "index_y = y.index.tolist()\n",
    "x = np.arange(len(index_y)) #the label locations\n",
    "width = 0.35  # the width of the bars\n",
    "fig, ax = plt.subplots()\n",
    "rects1 = ax.bar(x, values_y, width, label='Form. Degree Import.')\n",
    "ax.set_ylabel('Proportion of formal degree import.')\n",
    "ax.set_title('Between everyone who codes at work, it is important to have a formal degree in Computer Science')\n",
    "ax.set_xticks(x)\n",
    "ax.set_xticklabels(index_y, rotation=90)\n",
    "ax.legend()\n",
    "ax.bar_label(rects1, padding=0)\n",
    "\n",
    "plt.show()"
   ]
  },
  {
   "cell_type": "code",
   "execution_count": 12,
   "metadata": {},
   "outputs": [],
   "source": [
    "#Dropping rows in wich the value of column 'UndergradMajor' is different of Computer Science\n",
    "formal_degree_and_compSci = formal_degree[(formal_degree.UndergradMajor == \"Computer science, computer engineering, or software engineering\")]"
   ]
  },
  {
   "cell_type": "code",
   "execution_count": 13,
   "metadata": {},
   "outputs": [
    {
     "data": {
      "text/plain": [
       "(27497, 4)"
      ]
     },
     "execution_count": 13,
     "metadata": {},
     "output_type": "execute_result"
    }
   ],
   "source": [
    "formal_degree_and_compSci.shape \n"
   ]
  },
  {
   "cell_type": "code",
   "execution_count": 14,
   "metadata": {},
   "outputs": [
    {
     "data": {
      "image/png": "[encoded data removed]",
      "text/plain": [
       "<Figure size 432x288 with 1 Axes>"
      ]
     },
     "metadata": {
      "needs_background": "light"
     },
     "output_type": "display_data"
    }
   ],
   "source": [
    "#professional and Computer Scientist X number of each category of importance\n",
    "\n",
    "y1 = formal_degree_and_compSci['NEWEdImpt'].value_counts()/formal_degree_and_compSci.shape[0]*100\n",
    "values_y1 = y1.values.tolist()\n",
    "index_y1 = y1.index.tolist()\n",
    "x1 = np.arange(len(index_y1)) #the label locations\n",
    "width1 = 0.35  # the width of the bars\n",
    "fig1, ax1 = plt.subplots()\n",
    "rects2 = ax1.bar(x1, values_y1, width1, label='Form. Degree Import.')\n",
    "ax1.set_ylabel('Proportion of formal degree import.')\n",
    "ax1.set_title('Between everyone who is Computer Scientist, it is important to have a formal degree in Computer Science?')\n",
    "ax1.set_xticks(x1)\n",
    "ax1.set_xticklabels(index_y1, rotation=90)\n",
    "ax1.legend()\n",
    "ax1.bar_label(rects2, padding=0)\n",
    "\n",
    "plt.show()"
   ]
  },
  {
   "cell_type": "code",
   "execution_count": 15,
   "metadata": {},
   "outputs": [
    {
     "data": {
      "text/plain": [
       "(20643, 4)"
      ]
     },
     "execution_count": 15,
     "metadata": {},
     "output_type": "execute_result"
    }
   ],
   "source": [
    "#Dropping rows in wich the value of column 'UndergradMajor' is Computer Science including NaN\n",
    "formal_degree_and_not_compSci = formal_degree[(formal_degree.UndergradMajor != \"Computer science, computer engineering, or software engineering\")]\n",
    "formal_degree_and_not_compSci.shape "
   ]
  },
  {
   "cell_type": "code",
   "execution_count": 16,
   "metadata": {},
   "outputs": [
    {
     "data": {
      "image/png": "[encoded data removed]",
      "text/plain": [
       "<Figure size 432x288 with 1 Axes>"
      ]
     },
     "metadata": {
      "needs_background": "light"
     },
     "output_type": "display_data"
    }
   ],
   "source": [
    "#professional and not a Computer Scientist X number of each category of importance\n",
    "\n",
    "y2 = formal_degree_and_not_compSci['NEWEdImpt'].value_counts()/formal_degree_and_not_compSci.shape[0]*100\n",
    "values_y2 = y2.values.tolist()\n",
    "index_y2 = y2.index.tolist()\n",
    "x2 = np.arange(len(index_y2)) #the label locations\n",
    "width2 = 0.35  # the width of the bars\n",
    "fig2, ax2 = plt.subplots()\n",
    "rects3 = ax2.bar(x2, values_y2, width2, label='Form. Degree Import.')\n",
    "ax2.set_ylabel('Proportion of formal degree import.')\n",
    "ax2.set_title('Between everyone who is NOT formaly a Computer Scientist, it is important to have a formal degree in Computer Science?')\n",
    "ax2.set_xticks(x2)\n",
    "ax2.set_xticklabels(index_y2, rotation=90)\n",
    "ax2.legend()\n",
    "ax2.bar_label(rects3, padding=1)\n",
    "\n",
    "plt.show()"
   ]
  },
  {
   "cell_type": "markdown",
   "metadata": {},
   "source": [
    "<b>How is this happening along the time (number of non-formal degrees in computation employees/time)? <b>\n",
    "\n"
   ]
  },
  {
   "cell_type": "code",
   "execution_count": 17,
   "metadata": {},
   "outputs": [],
   "source": [
    "#Getting the number of non computer science professionals who works/worked with code\n",
    "dev_not_compSci_20 = formal_degree[(formal_degree.UndergradMajor != 'Computer science, computer engineering, or software engineering') & \n",
    "                                     (formal_degree.UndergradMajor != 'Web development or web design') & \n",
    "                                  (formal_degree.UndergradMajor != 'Information systems, information technology, or system administration')]\n",
    "\n",
    "not_dev_degree_professionals20 = dev_not_compSci_20.shape[0]\n",
    "ratio20 = not_dev_degree_professionals20/formal_degree.shape[0]*100\n"
   ]
  },
  {
   "cell_type": "code",
   "execution_count": 18,
   "metadata": {},
   "outputs": [],
   "source": [
    "#Getting statistics of dev or coder professionals profile from 2019 dataset \n",
    "professionals19 = data19[['MainBranch','UndergradMajor', 'Employment']].dropna(subset = ['MainBranch','Employment'])\n",
    "#Filtering the rows from whose values are different from coder people employed or retired\n",
    "filt_professionals19 = professionals19[(professionals19.MainBranch != 'I am a student who is learning to code') &\n",
    "                     (professionals19.MainBranch != 'I code primarily as a hobby')]\n",
    "filt_professionals19 = filt_professionals19[(filt_professionals19.Employment != 'Not employed, and not looking for work') \n",
    "                                           & (filt_professionals19.Employment != 'Not employed, and looking for work')\n",
    "                                           & (filt_professionals19.Employment != 'Student')]\n",
    "#Filtering from people who have a computer science degree or some other related field\n",
    "dev_not_compSci_19 = filt_professionals19[(filt_professionals19.UndergradMajor != 'Computer science, computer engineering, or software engineering') & \n",
    "                                     (filt_professionals19.UndergradMajor != 'Web development or web design') & \n",
    "                                  (filt_professionals19.UndergradMajor != 'Information systems, information technology, or system administration')]\n",
    "#Ratio between the number of non computer scientists who works coding and the total\n",
    "ratio19 = dev_not_compSci_19.shape[0]/filt_professionals19.shape[0]*100\n",
    "\n",
    "\n"
   ]
  },
  {
   "cell_type": "code",
   "execution_count": 19,
   "metadata": {},
   "outputs": [],
   "source": [
    "#Getting statistics of dev or coder professionals profile from 2018 dataset \n",
    "#Goal: get the number of professionals who codes and is no from computer sci X total employed or retired\n",
    "professionals18 = data18[['UndergradMajor', 'Employment','DevType']].dropna(subset = ['Employment','DevType'])\n",
    "\n",
    "#Filtering who is not employed\n",
    "professionals18 = professionals18[(professionals18.Employment != 'Not employed, and not looking for work')\n",
    "                                 & (professionals18.Employment != 'Not employed, but looking for work') ]\n"
   ]
  },
  {
   "cell_type": "code",
   "execution_count": 20,
   "metadata": {},
   "outputs": [],
   "source": [
    "#Filtering who does not work in the market coding\n",
    "professionals18 = professionals18[('C-suite executive (CEO, CTO, etc.)' != professionals18.DevType) & \n",
    "('Student' != professionals18.DevType)& \n",
    "('Designer' != professionals18.DevType)&\n",
    "('Marketing or sales professional' != professionals18.DevType)&\n",
    "('Educator or academic researcher'!= professionals18.DevType)]"
   ]
  },
  {
   "cell_type": "code",
   "execution_count": null,
   "metadata": {},
   "outputs": [],
   "source": [
    "#Checking which not dev professions are contained in DevType in 2018 dataset\n",
    "np.set_printoptions(threshold=np.inf)\n",
    "not_dev_professions = []\n",
    "for profession in professionals18['DevType'].unique():\n",
    "    if 'developer' not in profession:\n",
    "        if profession not in not_dev_professions:\n",
    "            print(profession, '/')\n",
    "            not_dev_professions.append(profession)\n",
    "        \n",
    "            \n",
    "            \n",
    "    "
   ]
  },
  {
   "cell_type": "code",
   "execution_count": 22,
   "metadata": {},
   "outputs": [],
   "source": [
    "#Getting the number of people who works in the market coding somehow without a formal degree in computation \n",
    "ratio_non_compSci18 = professionals18[(professionals18.UndergradMajor != 'Computer science, computer engineering, or software engineering')\n",
    "                & (professionals18.UndergradMajor != 'Information systems, information technology, or system administration')\n",
    "                & (professionals18.UndergradMajor != 'Web development or web design')]"
   ]
  },
  {
   "cell_type": "code",
   "execution_count": 23,
   "metadata": {},
   "outputs": [],
   "source": [
    "#2018 ratio between professionals who had a computation degree and general\n",
    "ratio18 = ratio_non_compSci18.shape[0]/professionals18.shape[0]*100"
   ]
  },
  {
   "cell_type": "code",
   "execution_count": 24,
   "metadata": {},
   "outputs": [],
   "source": [
    "professionals17 = data17[['Professional', 'EmploymentStatus', 'MajorUndergrad']].dropna(subset=['Professional','EmploymentStatus'])\n",
    "professionals17 = professionals17[(professionals17.Professional != 'Student')\n",
    "                                 & (professionals17.Professional != 'None of these')]"
   ]
  },
  {
   "cell_type": "code",
   "execution_count": 25,
   "metadata": {},
   "outputs": [],
   "source": [
    "professionals17['EmploymentStatus'].unique()\n",
    "professionals17 = professionals17[(professionals17.EmploymentStatus != 'Not employed, but looking for work')\n",
    "                                 & (professionals17.EmploymentStatus != 'Not employed, and not looking for work')\n",
    "                                 & (professionals17.EmploymentStatus != 'I prefer not to say')]"
   ]
  },
  {
   "cell_type": "code",
   "execution_count": 26,
   "metadata": {},
   "outputs": [],
   "source": [
    "#Getting the number of people who works in the market coding somehow without a formal degree in computation \n",
    "ratio_non_compSci17 = professionals17[(professionals17.MajorUndergrad != 'Computer science or software engineering')\n",
    "                & (professionals17.MajorUndergrad != 'Computer engineering or electrical/electronics engineering')\n",
    "                & (professionals17.MajorUndergrad != 'Computer programming or Web development')\n",
    "                & (professionals17.MajorUndergrad != 'Information technology, networking, or system administration')]                   "
   ]
  },
  {
   "cell_type": "code",
   "execution_count": 27,
   "metadata": {},
   "outputs": [],
   "source": [
    "ratio17 = ratio_non_compSci17.shape[0]/professionals17.shape[0]*100"
   ]
  },
  {
   "cell_type": "code",
   "execution_count": 85,
   "metadata": {},
   "outputs": [
    {
     "data": {
      "image/png": "[encoded data removed]",
      "text/plain": [
       "<Figure size 432x288 with 1 Axes>"
      ]
     },
     "metadata": {
      "needs_background": "light"
     },
     "output_type": "display_data"
    }
   ],
   "source": [
    "#Graphic of this rate along the time:\n",
    "y2 = formal_degree_and_not_compSci['NEWEdImpt'].value_counts()/formal_degree_and_not_compSci.shape[0]*100\n",
    "values_y2 = y2.values.tolist()\n",
    "index_y2 = y2.index.tolist()\n",
    "x2 = np.arange(len(index_y2)) #the label locations\n",
    "width2 = 0.35  # the width of the bars\n",
    "fig2, ax2 = plt.subplots()\n",
    "rects3 = ax2.bar(x2, values_y2, width2, label='Form. Degree Import.')\n",
    "ax2.set_ylabel('Proportion of formal degree import.')\n",
    "ax2.set_title('Between everyone who is NOT formaly a Computer Scientist, it is important to have a formal degree in Computer Science?')\n",
    "ax2.set_xticks(x2)\n",
    "ax2.set_xticklabels(index_y2, rotation=90)\n",
    "ax2.legend()\n",
    "ax2.bar_label(rects3, padding=0)\n",
    "\n",
    "plt.show()"
   ]
  },
  {
   "cell_type": "code",
   "execution_count": 89,
   "metadata": {},
   "outputs": [
    {
     "data": {
      "image/png": "[encoded data removed]",
      "text/plain": [
       "<Figure size 432x288 with 1 Axes>"
      ]
     },
     "metadata": {
      "needs_background": "light"
     },
     "output_type": "display_data"
    }
   ],
   "source": [
    "#Plotting the three charts in one \n",
    "data_index = ['Not at all important/necessary', 'Somewhat important', 'Fairly important','Very Important', 'Critically important']\n",
    "general = [15.9,23.5,26.3,24.5,9.8]\n",
    "CS = [9.6,21.0,29.0,29.1,11.2]\n",
    "non_CS = [24.5,26.9,22.4,18.3,7.9]\n",
    "\n",
    "data = [general,CS, non_CS]\n",
    "X = np.arange(5)\n",
    "bar1 = plt.bar(X + 0.00, data[0], width = 0.25, color = 'b')\n",
    "bar2 = plt.bar(X + 0.25, data[1], width = 0.25, color = 'g')\n",
    "bar3 = plt.bar(X + 0.50, data[2], width = 0.25, color = 'r')\n",
    "plt.xticks(X+0.25,data_index,rotation=90)\n",
    "plt.legend( (bar1, bar2, bar3), ('All', 'CS', 'non CS') )\n",
    "\n",
    "plt.xlabel(\"Importance\")\n",
    "plt.ylabel('Proportion in %')\n",
    "plt.title(\"Between professional coders, what is the importance of a Comp. Science formal degree?\")\n",
    "plt.bar_label(bar1,padding=0)\n",
    "plt.bar_label(bar2,padding=0)\n",
    "plt.bar_label(bar3,padding=0)\n",
    "\n",
    "plt.show()\n"
   ]
  },
  {
   "cell_type": "code",
   "execution_count": 29,
   "metadata": {},
   "outputs": [
    {
     "data": {
      "text/plain": [
       "[Text(0, 0, '32.0626'),\n",
       " Text(0, 0, '32.8012'),\n",
       " Text(0, 0, '32.0942'),\n",
       " Text(0, 0, '32.445')]"
      ]
     },
     "execution_count": 29,
     "metadata": {},
     "output_type": "execute_result"
    },
    {
     "data": {
      "image/png": "[encoded data removed]",
      "text/plain": [
       "<Figure size 432x288 with 1 Axes>"
      ]
     },
     "metadata": {
      "needs_background": "light"
     },
     "output_type": "display_data"
    }
   ],
   "source": [
    "x_years = np.arange(4) #the label locations\n",
    "years_values_y = [ratio17, ratio18, ratio19, ratio20]\n",
    "x_labels = ['ratio 2017', 'ratio 2018', 'ratio 2019', 'ratio 2020']\n",
    "bar_width = 0.35\n",
    "fig3, ax3 = plt.subplots()\n",
    "rects4 = ax3.bar(x_years, years_values_y, bar_width)\n",
    "ax3.set_ylabel('Percentage (%)')\n",
    "ax3.set_xticks(x_years)\n",
    "ax3.set_xticklabels(x_labels)\n",
    "ax3.set_title(\"What is the ratio between who works coding and don't have a formal degree in comp.Science or related Major Undergraduate and all the professionals who codes?\")\n",
    "ax3.bar_label(rects4, padding = 0)\n"
   ]
  },
  {
   "cell_type": "markdown",
   "metadata": {},
   "source": [
    "<b>Is there difference between the salary of people who have a formal degree in Comp Sci and who haven't? Let's see the percentage difference along the years 2020 and 2017:<b>\n"
   ]
  },
  {
   "cell_type": "code",
   "execution_count": 30,
   "metadata": {},
   "outputs": [],
   "source": [
    "#2020\n",
    "not_computerSci20 = data20[(data20.UndergradMajor != 'Computer science, computer engineering, or software engineering') & \n",
    "                  (data20.UndergradMajor != 'Web development or web design') & \n",
    "                  (data20.UndergradMajor != 'Information systems, information technology, or system administration') & \n",
    "                  (data20.MainBranch != 'I am a student who is learning to code') &\n",
    "                  (data20.MainBranch != 'I code primarily as a hobby') &\n",
    "                  (data20.Employment != 'Not employed, and not looking for work') &\n",
    "                  (data20.Employment != 'Not employed, and looking for work') &\n",
    "                  (data20.Employment != 'Student')]\n",
    "not_computerSci20 = not_computerSci20[['UndergradMajor', 'MainBranch','Country', 'Employment','CompFreq','CompTotal','ConvertedComp','CurrencyDesc']]\n"
   ]
  },
  {
   "cell_type": "code",
   "execution_count": 31,
   "metadata": {},
   "outputs": [
    {
     "data": {
      "text/plain": [
       "11115"
      ]
     },
     "execution_count": 31,
     "metadata": {},
     "output_type": "execute_result"
    }
   ],
   "source": [
    "compensation20 = not_computerSci20[not_computerSci20.ConvertedComp != 0].dropna(subset=['ConvertedComp']) #11203 people answered\n",
    "not_computerSci20.shape #19897 people answered totally without dropna\n",
    "not_computerSci20.iloc[1,5]\n",
    "not_computerSci20['CompTotal'].isna().sum() #8694 nan em CompTotal\n",
    "not_computerSci20['ConvertedComp'].isna().sum() #8723 nan em ConvertedComp\n",
    "compensation20.shape[0]"
   ]
  },
  {
   "cell_type": "code",
   "execution_count": 32,
   "metadata": {},
   "outputs": [],
   "source": [
    "#THE PEOPLE WHO HAVE NOT A FORMAL SCI COMP EDUCATION WORLDWIDE EARN U$111,249U ANNUALY \n",
    "compensation20_sorted = compensation20.sort_values(['ConvertedComp'],ascending=False)\n",
    "not_compSci_compens_mean20 = compensation20_sorted['ConvertedComp'].mean() "
   ]
  },
  {
   "cell_type": "code",
   "execution_count": 33,
   "metadata": {},
   "outputs": [],
   "source": [
    "computerSci20 = data20[(data20.UndergradMajor == 'Computer science, computer engineering, or software engineering') |\n",
    "                  (data20.UndergradMajor == 'Web development or web design') |\n",
    "                  (data20.UndergradMajor == 'Information systems, information technology, or system administration') & \n",
    "                  (data20.MainBranch != 'I am a student who is learning to code') &\n",
    "                  (data20.MainBranch != 'I code primarily as a hobby') &\n",
    "                  (data20.Employment != 'Not employed, and not looking for work') &\n",
    "                  (data20.Employment != 'Not employed, and looking for work') &\n",
    "                  (data20.Employment != 'Student')]\n",
    "compSci_compens20 = computerSci20[['UndergradMajor', 'MainBranch','Country', 'Employment','CompFreq','CompTotal','ConvertedComp','CurrencyDesc']]\n"
   ]
  },
  {
   "cell_type": "code",
   "execution_count": 34,
   "metadata": {},
   "outputs": [
    {
     "data": {
      "text/plain": [
       "(23623,)"
      ]
     },
     "execution_count": 34,
     "metadata": {},
     "output_type": "execute_result"
    }
   ],
   "source": [
    "compSci_compens20 = compSci_compens20[compSci_compens20.ConvertedComp != 0].dropna(subset=['ConvertedComp']) \n",
    "compSci_compens20.shape # #23499 people answered totally without dropna and without 0\n",
    "computerSci20['CompTotal'].dropna().shape #23623 (124 didin't converted to U$dollar annualy)\n"
   ]
  },
  {
   "cell_type": "code",
   "execution_count": 35,
   "metadata": {},
   "outputs": [
    {
     "data": {
      "text/plain": [
       "100838.40286820715"
      ]
     },
     "execution_count": 35,
     "metadata": {},
     "output_type": "execute_result"
    }
   ],
   "source": [
    "#THE PEOPLE WHO HAVE A FORMAL SCI COMP EDUCATION (or similar) WORLDWIDE EARN U$100,838.40 ANNUALY IN AVERAGE\n",
    "compSci_compens20_sorted = compSci_compens20.sort_values(['ConvertedComp'],ascending=False)\n",
    "compSci_compens_mean20 = compSci_compens20['ConvertedComp'].mean()\n",
    "compSci_compens_mean20"
   ]
  },
  {
   "cell_type": "code",
   "execution_count": 36,
   "metadata": {},
   "outputs": [
    {
     "data": {
      "text/plain": [
       "10.32502284724738"
      ]
     },
     "execution_count": 36,
     "metadata": {},
     "output_type": "execute_result"
    }
   ],
   "source": [
    "#DIFFERENCE PERCENTAGE 2020 BETWEEN COMPUTER SCIENTISTS AND WHO'S NOT = 10,32%\n",
    "dif_perc20 = (not_compSci_compens_mean20-compSci_compens_mean20)/compSci_compens_mean20*100\n",
    "dif_perc20\n"
   ]
  },
  {
   "cell_type": "code",
   "execution_count": 37,
   "metadata": {},
   "outputs": [],
   "source": [
    "#2019\n",
    "computerSci19 = data19[(data19.UndergradMajor == 'Computer science, computer engineering, or software engineering') |\n",
    "                  (data19.UndergradMajor == 'Web development or web design') |\n",
    "                  (data19.UndergradMajor == 'Information systems, information technology, or system administration') & \n",
    "                  (data19.MainBranch != 'I am a student who is learning to code') &\n",
    "                  (data19.MainBranch != 'I code primarily as a hobby') &\n",
    "                  (data19.Employment != 'Not employed, and not looking for work') &\n",
    "                  (data19.Employment != 'Not employed, and looking for work') &\n",
    "                  (data19.Employment != 'Student')]\n",
    "compSci_compens19 = computerSci19[['UndergradMajor', 'MainBranch','Country', 'Employment','CompFreq','CompTotal','ConvertedComp','CurrencyDesc']]\n",
    "compSci_compens19 = compSci_compens19[compSci_compens19.ConvertedComp != 0].dropna(subset=['ConvertedComp']) \n",
    "compSci_compens19.shape #37715 people answered totally without dropna and without 0\n",
    "computerSci19['CompTotal'].dropna().shape #37935 (220 didin't converted to U$ dollar annualy)\n",
    "\n",
    "#THE PEOPLE WHO HAVE A FORMAL SCI COMP EDUCATION (or similar) WORLDWIDE EARN U$124,224.99 ANNUALY IN AVERAGE\n",
    "compSci_compens19_sorted = compSci_compens19.sort_values(['ConvertedComp'],ascending=False)\n",
    "compSci_compens_mean19 = compSci_compens19['ConvertedComp'].mean()"
   ]
  },
  {
   "cell_type": "code",
   "execution_count": 38,
   "metadata": {},
   "outputs": [],
   "source": [
    "not_computerSci19 = data19[(data19.UndergradMajor != 'Computer science, computer engineering, or software engineering') &\n",
    "                  (data19.UndergradMajor != 'Web development or web design') &\n",
    "                  (data19.UndergradMajor != 'Information systems, information technology, or system administration') & \n",
    "                  (data19.MainBranch != 'I am a student who is learning to code') &\n",
    "                  (data19.MainBranch != 'I code primarily as a hobby') &\n",
    "                  (data19.Employment != 'Not employed, and not looking for work') &\n",
    "                  (data19.Employment != 'Not employed, and looking for work') &\n",
    "                  (data19.Employment != 'Student')]\n",
    "not_computerSci19 = not_computerSci19[['UndergradMajor', 'MainBranch','Country', 'Employment','CompFreq','CompTotal','ConvertedComp','CurrencyDesc']]\n",
    "compensation19 = not_computerSci19[not_computerSci19.ConvertedComp != 0].dropna(subset=['ConvertedComp']) #17,909 people answered\n",
    "not_computerSci19.shape #24318 people answered totally without dropna, counting with Nan and 0's\n",
    "not_computerSci19['CompTotal'].isna().sum() #6308 nan em CompTotal\n",
    "not_computerSci19['ConvertedComp'].isna().sum() #6341 nan em ConvertedComp\n",
    "\n",
    "#THE PEOPLE WHO HAVE NOT A FORMAL SCI COMP EDUCATION WORLDWIDE EARN U$134,600.33 ANNUALY \n",
    "compensation19_sorted = compensation19.sort_values(['ConvertedComp'],ascending=False)\n",
    "not_compSci_compens_mean19 = compensation19_sorted['ConvertedComp'].mean()"
   ]
  },
  {
   "cell_type": "code",
   "execution_count": 39,
   "metadata": {},
   "outputs": [
    {
     "data": {
      "text/plain": [
       "8.352059995452716"
      ]
     },
     "execution_count": 39,
     "metadata": {},
     "output_type": "execute_result"
    }
   ],
   "source": [
    "#DIFFERENCE PERCENTAGE 2019 BETWEEN COMPUTER SCIENTISTS AND WHO'S NOT = 8,32%\n",
    "dif_perc19 = (not_compSci_compens_mean19-compSci_compens_mean19)/compSci_compens_mean19*100\n",
    "dif_perc19"
   ]
  },
  {
   "cell_type": "code",
   "execution_count": 40,
   "metadata": {},
   "outputs": [],
   "source": [
    "#2018\n",
    "not_compSci_salary18 = data18.iloc[ratio_non_compSci18.index.values]\n",
    "not_compSci_compens18 = not_compSci_salary18[['UndergradMajor', 'Employment','DevType','ConvertedSalary']]\n",
    "not_compSci_compens18 = not_compSci_compens18.sort_values(['ConvertedSalary'],ascending=False)"
   ]
  },
  {
   "cell_type": "code",
   "execution_count": 41,
   "metadata": {},
   "outputs": [
    {
     "data": {
      "text/plain": [
       "103226.43537460595"
      ]
     },
     "execution_count": 41,
     "metadata": {},
     "output_type": "execute_result"
    }
   ],
   "source": [
    "not_compSci_compens18 = not_compSci_compens18[not_compSci_compens18.ConvertedSalary != 0].dropna(subset=['ConvertedSalary']) \n",
    "not_compSci_salary18.shape #26,117 people answered totally without dropna, counting with Nan and 0's\n",
    "not_compSci_compens18.shape # 14,909 answered with real values their converted annualy salaries\n",
    "\n",
    "#THE PEOPLE WHO DON'T HAVE A FORMAL SCI COMP EDUCATION (or similar) WORLDWIDE EARN U$103,226.44 ANNUALY IN AVERAGE IN 2018\n",
    "not_compSci_salary_mean18 = not_compSci_compens18['ConvertedSalary'].mean()\n",
    "not_compSci_salary_mean18"
   ]
  },
  {
   "cell_type": "code",
   "execution_count": 42,
   "metadata": {},
   "outputs": [],
   "source": [
    "compSci18 = professionals18[(professionals18.UndergradMajor == 'Computer science, computer engineering, or software engineering')\n",
    "                | (professionals18.UndergradMajor == 'Information systems, information technology, or system administration')\n",
    "                | (professionals18.UndergradMajor == 'Web development or web design')]"
   ]
  },
  {
   "cell_type": "code",
   "execution_count": 43,
   "metadata": {},
   "outputs": [],
   "source": [
    "compSci_salary18 = data18.iloc[compSci18.index.values]\n",
    "compSci_compens18 = compSci_salary18[['UndergradMajor','Employment','DevType','ConvertedSalary']]\n",
    "compSci_compens18 = compSci_compens18.sort_values(['ConvertedSalary'],ascending=False)"
   ]
  },
  {
   "cell_type": "code",
   "execution_count": 44,
   "metadata": {},
   "outputs": [
    {
     "data": {
      "text/plain": [
       "96238.02996618341"
      ]
     },
     "execution_count": 44,
     "metadata": {},
     "output_type": "execute_result"
    }
   ],
   "source": [
    "compSci_compens18 = compSci_compens18[compSci_compens18.ConvertedSalary != 0].dropna(subset=['ConvertedSalary'])\n",
    "compSci_salary18.shape # 53,505 people answered totally without dropna, counting with Nan and 0's\n",
    "compSci_compens18.shape # 29,867 answered with real values their converted annualy salaries\n",
    "\n",
    "#THE PEOPLE WHO HAVE A FORMAL SCI COMP EDUCATION (or similar) WORLDWIDE EARN U$96,238,03 ANNUALY IN AVERAGE\n",
    "compSci_salary_mean18 = compSci_compens18['ConvertedSalary'].mean()\n",
    "compSci_salary_mean18"
   ]
  },
  {
   "cell_type": "code",
   "execution_count": 45,
   "metadata": {},
   "outputs": [
    {
     "data": {
      "text/plain": [
       "7.261584023361819"
      ]
     },
     "execution_count": 45,
     "metadata": {},
     "output_type": "execute_result"
    }
   ],
   "source": [
    "#DIFFERENCE PERCENTAGE 2018 BETWEEN COMPUTER SCIENTISTS AND WHO'S NOT = 7.26%\n",
    "dif_perc18 = (not_compSci_salary_mean18-compSci_salary_mean18)/compSci_salary_mean18*100\n",
    "dif_perc18"
   ]
  },
  {
   "cell_type": "code",
   "execution_count": 46,
   "metadata": {},
   "outputs": [],
   "source": [
    "#2017\n",
    "not_compSci_salary17 = data17.iloc[ratio_non_compSci17.index.values]\n",
    "not_compSci_salary_filtered_17 = not_compSci_salary17[['MajorUndergrad','EmploymentStatus','Salary','Currency']].dropna(subset=['Salary','Currency'])\n",
    "not_compSci_salary_filtered_17 = not_compSci_salary_filtered_17[(not_compSci_salary_filtered_17.Currency == 'U.S. dollars ($)')\n",
    "                                             & (not_compSci_salary_filtered_17.Salary != 0)]\n",
    "                                              "
   ]
  },
  {
   "cell_type": "code",
   "execution_count": 47,
   "metadata": {},
   "outputs": [
    {
     "data": {
      "text/plain": [
       "(1439, 4)"
      ]
     },
     "execution_count": 47,
     "metadata": {},
     "output_type": "execute_result"
    }
   ],
   "source": [
    "not_compSci_salary17.shape #13,129 people answered totally without dropna, counting with Nan and 0's\n",
    "not_compSci_salary_filtered_17.shape # 1,439 answered with real values their converted annualy salaries and HAD US DOLLAR CURRENCY\n"
   ]
  },
  {
   "cell_type": "code",
   "execution_count": 48,
   "metadata": {},
   "outputs": [
    {
     "data": {
      "text/plain": [
       "90597.17904454713"
      ]
     },
     "execution_count": 48,
     "metadata": {},
     "output_type": "execute_result"
    }
   ],
   "source": [
    "#THE PEOPLE WHO DON'T HAVE A FORMAL SCI COMP EDUCATION (or similar) WORLDWIDE EARN U$90,597.18 ANNUALY IN AVERAGE IN 2017\n",
    "not_compSci_salary_mean17 = not_compSci_salary_filtered_17['Salary'].mean()\n",
    "not_compSci_salary_mean17"
   ]
  },
  {
   "cell_type": "code",
   "execution_count": 49,
   "metadata": {},
   "outputs": [],
   "source": [
    "compSci_salary17 = professionals17[(professionals17.MajorUndergrad == 'Computer science or software engineering')\n",
    "                | (professionals17.MajorUndergrad == 'Computer engineering or electrical/electronics engineering')\n",
    "                | (professionals17.MajorUndergrad == 'Computer programming or Web development')\n",
    "                | (professionals17.MajorUndergrad == 'Information technology, networking, or system administration')]  "
   ]
  },
  {
   "cell_type": "code",
   "execution_count": 50,
   "metadata": {},
   "outputs": [],
   "source": [
    "compSci_salary17 = data17.iloc[compSci_salary17.index.values]\n",
    "compSci_salary_filtered_17 = compSci_salary17[['MajorUndergrad','EmploymentStatus','Salary','Currency']].dropna(subset=['Salary','Currency'])\n",
    "compSci_salary_filtered_17 = compSci_salary_filtered_17[(compSci_salary_filtered_17.Currency == 'U.S. dollars ($)')\n",
    "                                             & (compSci_salary_filtered_17.Salary != 0)]"
   ]
  },
  {
   "cell_type": "code",
   "execution_count": 51,
   "metadata": {},
   "outputs": [
    {
     "data": {
      "text/plain": [
       "(2849, 4)"
      ]
     },
     "execution_count": 51,
     "metadata": {},
     "output_type": "execute_result"
    }
   ],
   "source": [
    "compSci_salary17.shape #27,819 people answered totally without dropna, counting with Nan and 0's\n",
    "compSci_salary_filtered_17.shape # 2,849 answered with real values their converted annualy salaries and HAD US DOLLAR CURRENCY\n"
   ]
  },
  {
   "cell_type": "code",
   "execution_count": 52,
   "metadata": {},
   "outputs": [
    {
     "data": {
      "text/plain": [
       "87346.47654340298"
      ]
     },
     "execution_count": 52,
     "metadata": {},
     "output_type": "execute_result"
    }
   ],
   "source": [
    "#THE PEOPLE WHO DON'T HAVE A FORMAL SCI COMP EDUCATION (or similar) WORLDWIDE EARN U$87,346.46 ANNUALY IN AVERAGE IN 2017\n",
    "compSci_salary_mean17 = compSci_salary_filtered_17['Salary'].mean()\n",
    "compSci_salary_mean17"
   ]
  },
  {
   "cell_type": "code",
   "execution_count": 53,
   "metadata": {},
   "outputs": [
    {
     "data": {
      "text/plain": [
       "3.7216183523199704"
      ]
     },
     "execution_count": 53,
     "metadata": {},
     "output_type": "execute_result"
    }
   ],
   "source": [
    "#DIFFERENCE PERCENTAGE 2018 BETWEEN COMPUTER SCIENTISTS AND WHO'S NOT = 3,72%\n",
    "dif_perc17 = (not_compSci_salary_mean17-compSci_salary_mean17)/compSci_salary_mean17*100\n",
    "dif_perc17"
   ]
  },
  {
   "cell_type": "code",
   "execution_count": 57,
   "metadata": {},
   "outputs": [
    {
     "data": {
      "text/plain": [
       "[Text(0, 0, '3.72162'),\n",
       " Text(0, 0, '7.26158'),\n",
       " Text(0, 0, '8.35206'),\n",
       " Text(0, 0, '10.325')]"
      ]
     },
     "execution_count": 57,
     "metadata": {},
     "output_type": "execute_result"
    },
    {
     "data": {
      "image/png": "[encoded data removed]",
      "text/plain": [
       "<Figure size 432x288 with 1 Axes>"
      ]
     },
     "metadata": {
      "needs_background": "light"
     },
     "output_type": "display_data"
    }
   ],
   "source": [
    "#Plotting the differences of salary or compencies along the years\n",
    "x_years  #the label locations\n",
    "diff_perc_y = [dif_perc17, dif_perc18, dif_perc19, dif_perc20]\n",
    "x_labels_diff = [ '2017', '2018', '2019', '2020']\n",
    "bar_width \n",
    "fig4, ax4 = plt.subplots()\n",
    "rects5 = ax4.bar(x_years, diff_perc_y, bar_width)\n",
    "ax4.set_ylabel('Percentage of difference (%)')\n",
    "ax4.set_xticks(x_years)\n",
    "ax4.set_xticklabels(x_labels_diff)\n",
    "ax4.set_title(\"Percentage of difference in salary average between CSs and non CSs coders\")\n",
    "ax4.bar_label(rects5, padding = 0)\n"
   ]
  },
  {
   "cell_type": "code",
   "execution_count": 162,
   "metadata": {},
   "outputs": [
    {
     "data": {
      "text/plain": [
       "array(['Master’s degree (M.A., M.S., M.Eng., MBA, etc.)',\n",
       "       'Some college/university study without earning a degree',\n",
       "       'Secondary school (e.g. American high school, German Realschule or Gymnasium, etc.)',\n",
       "       'Professional degree (JD, MD, etc.)',\n",
       "       'Other doctoral degree (Ph.D., Ed.D., etc.)',\n",
       "       'Bachelor’s degree (B.A., B.S., B.Eng., etc.)', nan,\n",
       "       'Primary/elementary school',\n",
       "       'I never completed any formal education',\n",
       "       'Associate degree (A.A., A.S., etc.)'], dtype=object)"
      ]
     },
     "execution_count": 162,
     "metadata": {},
     "output_type": "execute_result"
    }
   ],
   "source": [
    "data20_edLevel = data20.iloc[not_computerSci20.index.values]\n",
    "data20_edLevel = data20_edLevel[['UndergradMajor','DevType', 'EdLevel', 'ConvertedComp']].dropna(subset=['ConvertedComp'])\n",
    "data20_edLevel['EdLevel'].unique()"
   ]
  },
  {
   "cell_type": "code",
   "execution_count": 152,
   "metadata": {},
   "outputs": [],
   "source": [
    "def compensation_mean(data_serie_filter, data, value):\n",
    "    '''\n",
    "    Function to calculate the average compensation that each group of people from some Undergrad or other study level earns\n",
    "    Input:\n",
    "     data_serie_filter = a pandas Series ex: data.column_name\n",
    "     data = pandas dataframe name\n",
    "     value = string containing the value, Undergraduate or Education leve, you want to know the compensation mean\n",
    "    Returns:\n",
    "     num_people = int with the number of people\n",
    "     compensation_mean = float with the compensation mean for each group\n",
    "    '''\n",
    "    value_dataframe = data[data_serie_filter == value]\n",
    "    num_people = value_dataframe.shape[0]\n",
    "    compensation_mean = value_dataframe['ConvertedComp'].mean()\n",
    "    return num_people, compensation_mean\n",
    "\n",
    "math_e_stats_shape20, math_e_stats20 = compensation_mean(data20_edLevel.UndergradMajor,data20_edLevel,'Mathematics or statistics')\n",
    "#1199 people who did math and stats and work coding\n",
    "#U$130,102.59 annualy\n",
    "\n",
    "eng_shape20, engineering20 = compensation_mean(data20_edLevel.UndergradMajor,data20_edLevel,'Another engineering discipline (such as civil, electrical, mechanical, etc.)')\n",
    "#2931 work coding \n",
    "#U$92776.57 annualy\n",
    "\n",
    "nat_sci_shape20, nat_sci_comp_mean20 = compensation_mean(data20_edLevel.UndergradMajor,data20_edLevel,'A natural science (such as biology, chemistry, physics, etc.)')\n",
    "#1485 work coding \n",
    "#U$113,949.78 \n",
    "\n",
    "arts_shape20, arts_comp_mean20 = compensation_mean(data20_edLevel.UndergradMajor,data20_edLevel,'Fine arts or performing arts (such as graphic design, music, studio art, etc.)')\n",
    "#508 work coding\n",
    "#U$159630.37\n",
    "\n",
    "no_major_shape20, no_major_comp_mean20 = compensation_mean(data20_edLevel.UndergradMajor,data20_edLevel, 'I never declared a major')\n",
    "#232\n",
    "#U$134,906.59\n",
    "\n",
    "human_shape20, human_comp_mean20 = compensation_mean(data20_edLevel.UndergradMajor,data20_edLevel,'A humanities discipline (such as literature, history, philosophy, etc.)')\n",
    "#719\n",
    "#145240.65\n",
    "\n",
    "health_shape20, health_comp_mean20 = compensation_mean(data20_edLevel.UndergradMajor,data20_edLevel,'A health science (such as nursing, pharmacy, radiology, etc.)')\n",
    "#127\n",
    "#U$70,738.69\n",
    "\n",
    "social_shape20, social_comp_mean20 = compensation_mean(data20_edLevel.UndergradMajor,data20_edLevel,'A social science (such as anthropology, psychology, political science, etc.)')\n",
    "#620\n",
    "#U$130,689.14\n",
    "\n",
    "business_shape20, business_comp_mean20 = compensation_mean(data20_edLevel.UndergradMajor,data20_edLevel,'A business discipline (such as accounting, finance, marketing, etc.)')\n",
    "#825\n",
    "#U$109,906.89"
   ]
  },
  {
   "cell_type": "code",
   "execution_count": 159,
   "metadata": {},
   "outputs": [],
   "source": []
  },
  {
   "cell_type": "code",
   "execution_count": 161,
   "metadata": {},
   "outputs": [
    {
     "data": {
      "text/plain": [
       "0"
      ]
     },
     "execution_count": 161,
     "metadata": {},
     "output_type": "execute_result"
    }
   ],
   "source": []
  },
  {
   "cell_type": "code",
   "execution_count": null,
   "metadata": {},
   "outputs": [],
   "source": []
  }
 ],
 "metadata": {
  "kernelspec": {
   "display_name": "Python 3",
   "language": "python",
   "name": "python3"
  },
  "language_info": {
   "codemirror_mode": {
    "name": "ipython",
    "version": 3
   },
   "file_extension": ".py",
   "mimetype": "text/x-python",
   "name": "python",
   "nbconvert_exporter": "python",
   "pygments_lexer": "ipython3",
   "version": "3.8.5"
  }
 },
 "nbformat": 4,
 "nbformat_minor": 4
}
